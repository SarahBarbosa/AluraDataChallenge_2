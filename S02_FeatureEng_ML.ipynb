{
  "cells": [
    {
      "cell_type": "markdown",
      "metadata": {
        "id": "sRNoie-8ilnC"
      },
      "source": [
        "![](https://imgur.com/QnT31vZ.png)\n",
        "\n",
        "---\n",
        "\n",
        "# Sobre o desafio\n",
        "\n",
        "Na semana 02, vamos focar na construção e otimização de modelos de machine learning (ML) para lidar com a Taxa de Churn. Agora que terminamos a análise inicial dos dados na semana 01, é hora de usar algoritmos de ML para transformar nossos insights em ações eficazes."
      ]
    },
    {
      "cell_type": "markdown",
      "metadata": {
        "id": "Fs8sLuiJhP74"
      },
      "source": [
        "## Carregando os dados da Semana 01"
      ]
    },
    {
      "cell_type": "code",
      "execution_count": 2,
      "metadata": {
        "id": "degU-HjDlP1q"
      },
      "outputs": [
        {
          "name": "stdout",
          "output_type": "stream",
          "text": [
            "<class 'pandas.core.frame.DataFrame'>\n",
            "RangeIndex: 7043 entries, 0 to 7042\n",
            "Data columns (total 20 columns):\n",
            " #   Column            Non-Null Count  Dtype  \n",
            "---  ------            --------------  -----  \n",
            " 0   Churn             7043 non-null   object \n",
            " 1   Gender            7043 non-null   object \n",
            " 2   Seniorcitizen     7043 non-null   int64  \n",
            " 3   Partner           7043 non-null   object \n",
            " 4   Dependents        7043 non-null   object \n",
            " 5   Tenure            7043 non-null   int64  \n",
            " 6   Phoneservice      7043 non-null   object \n",
            " 7   Multiplelines     7043 non-null   object \n",
            " 8   Internetservice   7043 non-null   object \n",
            " 9   Onlinesecurity    7043 non-null   object \n",
            " 10  Onlinebackup      7043 non-null   object \n",
            " 11  Deviceprotection  7043 non-null   object \n",
            " 12  Techsupport       7043 non-null   object \n",
            " 13  Streamingtv       7043 non-null   object \n",
            " 14  Streamingmovies   7043 non-null   object \n",
            " 15  Contract          7043 non-null   object \n",
            " 16  Paperlessbilling  7043 non-null   object \n",
            " 17  Paymentmethod     7043 non-null   object \n",
            " 18  Charges_monthly   7043 non-null   float64\n",
            " 19  Charges_total     7043 non-null   float64\n",
            "dtypes: float64(2), int64(2), object(16)\n",
            "memory usage: 1.1+ MB\n"
          ]
        }
      ],
      "source": [
        "import pandas as pd\n",
        "\n",
        "dados = pd.read_csv('Dados/dados_tratados.csv')\n",
        "dados.info()"
      ]
    },
    {
      "cell_type": "markdown",
      "metadata": {
        "id": "q2az39csY8W_"
      },
      "source": [
        "<div style=\"background-color: #171821; color: white; padding: 10px; text-align: center; font-size: 20px;\">\n",
        "    <h1>Lidando com o desbalanceamento de dados da target</h1>\n",
        "</div>\n",
        "\n",
        "Durante a primeira semana do nosso projeto, uma observação veio à tona: nossos dados da target apresentam um desbalanceamento, conforme evidenciado abaixo:"
      ]
    },
    {
      "cell_type": "code",
      "execution_count": 2,
      "metadata": {
        "colab": {
          "base_uri": "https://localhost:8080/",
          "height": 458
        },
        "id": "INkZHUCHk0H3",
        "outputId": "33b33a5c-f2df-4276-922c-579d6d7b62c9"
      },
      "outputs": [
        {
          "data": {
            "image/png": "[encoded data removed]",
            "text/plain": [
              "<Figure size 1000x500 with 1 Axes>"
            ]
          },
          "metadata": {},
          "output_type": "display_data"
        }
      ],
      "source": [
        "import justplotit as jpi\n",
        "jpi.frequencia_churn(dados)"
      ]
    },
    {
      "cell_type": "markdown",
      "metadata": {
        "id": "NNH5xOO-lw7E"
      },
      "source": [
        "O que esse balanceamento nos diz se quisermos prever quais clientes deixaram a empresa Novexus? Quando formos criar nosso modelo de Machine Learning, treinar e avaliar, vamos eventualmente perceber que o modelo terá um bom desempenho para prever corretamente que os clientes que saíram da empresa realmente saíram, mas ele vai ter um péssimo desempenho para identificar corretamente quais clientes saíram da empresa (recall baixo e, eventualmente, o f1-score será baixo também). Assim o modelo está estaria fazendo bom trabalho em identificar clientes que não irão sair da empresa, mas está falhando em identificar clientes que irão sair da empresa.\n",
        "\n",
        "Para melhorar o desempenho do modelo, podemos pensar em três alternativas: \n",
        "\n",
        "1. Deixamos esses dados balanceados adicionando mais features relevantes ao conjunto de dados de treinamento;\n",
        "\n",
        "2. Implementar uma técnica de oversampling (SMOTE) ou\n",
        "\n",
        "3. uma técnica de Undersampling (Tomek Links).\n"
      ]
    },
    {
      "cell_type": "markdown",
      "metadata": {
        "id": "tkiR_GkXac0B"
      },
      "source": [
        "## Abordagem 1: Ignorar o desbalanceamento\n",
        "\n",
        "> A primeira abordagem consiste em ignorar completamente o desbalanceamento e construir nosso modelo sem fazer ajustes específicos para corrigir. Se desenvolvermos um modelo sem considerar essa desproporcionalidade nos dados, o modelo será vítima do Paradoxo da Acurácia, em que os parâmetros do algoritmo não diferenciarão a classe minoritária das demais categorias, acreditando que estão agregando resultado devido à aparente alta acurácia."
      ]
    },
    {
      "cell_type": "markdown",
      "metadata": {
        "id": "XLS4gdJScf4G"
      },
      "source": [
        "## Abordagem 2: Oversamplig\n",
        "\n",
        "> A segunda abordagem é utilizar a técnica [SMOTE](https://arxiv.org/pdf/1106.1813.pdf) (Synthetic Minority Over-sampling Technique). Essa técnica envolve a criação de informações sintéticas com base nas observações já existentes na classe minoritária. Esses dados \"sintéticos\" são gerados de forma a serem semelhantes aos dados reais, embora não sejam idênticos. Essa abordagem visa equilibrar a representação das classes, tornando o modelo mais capaz de identificar corretamente os casos da classe minoritária. Essa técnica no entanto pde introduzir viés nos dados ao gerar amostras sintéticas que estão próximas de exemplos existentes da classe minoritária. Isso pode levar a um melhor desempenho do modelo na classe minoritária, mas pode prejudicar o desempenho do modelo na classe majoritária.\n",
        "\n",
        "![](https://imgur.com/KCTDPZG.png)"
      ]
    },
    {
      "cell_type": "markdown",
      "metadata": {},
      "source": [
        "## Abordagem 3: Undersampling\n",
        "\n",
        "> A terceira abordagem é usar Tomek Links é uma técnica de subamostragem que foi desenvolvida em 1976 por [Ivan Tomek](https://ieeexplore.ieee.org/stamp/stamp.jsp?arnumber=4309452). É uma modificação do Condensed Nearest Neighbors (CNN). Ele pode ser utilizado para identificar amostras desejadas da classe majoritária que apresentem a menor distância euclidiana com os dados da classe minoritária e, em seguida, removê-las. \n",
        "\n",
        "![](https://imgur.com/6FTLQ0M.png)"
      ]
    },
    {
      "cell_type": "markdown",
      "metadata": {},
      "source": [
        "## Quando iremos aplicar essas técnicas?\n",
        "\n",
        "A regra fundamental é: nunca mexa com seu conjunto de teste. Sempre divida-o em conjuntos de teste e treinamento ANTES de tentar aplicar técnicas de oversampling/undersampling!\n",
        "\n",
        "Realizar oversampling antes da divisão dos dados pode resultar na presença das mesmas observações em ambos os conjuntos de teste e treinamento. Isso possibilita que o modelo simplesmente memorize pontos de dados específicos, o que leva ao overfitting e à má generalização para os dados de teste. O vazamento de dados pode causar a criação de modelos preditivos excessivamente otimistas, senão completamente inválidos.\n",
        "\n",
        "Além disso, não devemos fazer isso antes da validação cruzada. Isso ocorre porque ao fazer isso antecipadamente, você estará influenciando diretamente o conjunto de validação antes de realizar a validação cruzada, o que pode resultar em um problema de \"data leakage\"."
      ]
    },
    {
      "cell_type": "markdown",
      "metadata": {
        "id": "tGXiXVEDmKAu"
      },
      "source": [
        "<div style=\"background-color: #171821; color: white; padding: 10px; text-align: center; font-size: 20px;\">\n",
        "    <h1>Feature Engineering e Encoding + Pipeline</h1>\n",
        "</div>\n",
        "\n",
        "Iremos adicionar uma nova variável intitulada `TotalServices`, que é uma contagem do número total de serviços que um cliente está inscrito (os serviços são: `Multiplelines`, `Onlinesecurity`, `Onlinebackup`, `Deviceprotection`, `Techsupport`, `Streamingtv`, `Streamingmovies`). Além disso, iremos substituir todas as células que possuem `No internet service` ou `No phone service` por `No` visto que já existe uma coluna que informa sobre isso."
      ]
    },
    {
      "cell_type": "code",
      "execution_count": 3,
      "metadata": {},
      "outputs": [],
      "source": [
        "import justdoit as jdi\n",
        "\n",
        "# Precisamos separar nossos dados!\n",
        "X = dados.drop('Churn', axis = 1)                # Features\n",
        "y = dados['Churn'].replace({'Yes': 1, 'No': 0})  # Target\n",
        "\n",
        "# Substituindo algumas coisas desnecessárias...\n",
        "X = X.where((X != 'No internet service') & (X != 'No phone service'), 'No')\n",
        "\n",
        "# Adicionando uma nova feature!\n",
        "jdi.TotalServiceTransformer(X)"
      ]
    },
    {
      "cell_type": "markdown",
      "metadata": {},
      "source": [
        "O código abaixo está preparando os dados para o modelo ML usando pipelines e transformadores. Cada linha do código é explicada abaixo:\n",
        "\n",
        "- `cols_num` e `cols_cat`: Define as features numéricas e categóricas (respectivamente) do conjunto de dados que precisam ser pré-processadas.\n",
        "\n",
        "Logo em seguida temos a criação do pipeline de pré-processamento para os dados categóricos e numéricos:\n",
        "\n",
        "- A primeira etapa é o codificador `CatBoost`. É um codificador supervisionado de variáveis categóricas baseado no algoritmo CatBoost, na qual codifica essas colunas de acordo com o valor da target.\n",
        "\n",
        "- A segunda etapa é padronizar os dados numéricos com `StandardScaler`. Isso significa que aqui vamos transformar os dados de modo que a média de cada coluna seja 0 e o desvio padrão de cada coluna seja 1."
      ]
    },
    {
      "cell_type": "code",
      "execution_count": 4,
      "metadata": {},
      "outputs": [
        {
          "data": {
            "text/html": [
              "<style>#sk-container-id-1 {color: black;}#sk-container-id-1 pre{padding: 0;}#sk-container-id-1 div.sk-toggleable {background-color: white;}#sk-container-id-1 label.sk-toggleable__label {cursor: pointer;display: block;width: 100%;margin-bottom: 0;padding: 0.3em;box-sizing: border-box;text-align: center;}#sk-container-id-1 label.sk-toggleable__label-arrow:before {content: \"▸\";float: left;margin-right: 0.25em;color: #696969;}#sk-container-id-1 label.sk-toggleable__label-arrow:hover:before {color: black;}#sk-container-id-1 div.sk-estimator:hover label.sk-toggleable__label-arrow:before {color: black;}#sk-container-id-1 div.sk-toggleable__content {max-height: 0;max-width: 0;overflow: hidden;text-align: left;background-color: #f0f8ff;}#sk-container-id-1 div.sk-toggleable__content pre {margin: 0.2em;color: black;border-radius: 0.25em;background-color: #f0f8ff;}#sk-container-id-1 input.sk-toggleable__control:checked~div.sk-toggleable__content {max-height: 200px;max-width: 100%;overflow: auto;}#sk-container-id-1 input.sk-toggleable__control:checked~label.sk-toggleable__label-arrow:before {content: \"▾\";}#sk-container-id-1 div.sk-estimator input.sk-toggleable__control:checked~label.sk-toggleable__label {background-color: #d4ebff;}#sk-container-id-1 div.sk-label input.sk-toggleable__control:checked~label.sk-toggleable__label {background-color: #d4ebff;}#sk-container-id-1 input.sk-hidden--visually {border: 0;clip: rect(1px 1px 1px 1px);clip: rect(1px, 1px, 1px, 1px);height: 1px;margin: -1px;overflow: hidden;padding: 0;position: absolute;width: 1px;}#sk-container-id-1 div.sk-estimator {font-family: monospace;background-color: #f0f8ff;border: 1px dotted black;border-radius: 0.25em;box-sizing: border-box;margin-bottom: 0.5em;}#sk-container-id-1 div.sk-estimator:hover {background-color: #d4ebff;}#sk-container-id-1 div.sk-parallel-item::after {content: \"\";width: 100%;border-bottom: 1px solid gray;flex-grow: 1;}#sk-container-id-1 div.sk-label:hover label.sk-toggleable__label {background-color: #d4ebff;}#sk-container-id-1 div.sk-serial::before {content: \"\";position: absolute;border-left: 1px solid gray;box-sizing: border-box;top: 0;bottom: 0;left: 50%;z-index: 0;}#sk-container-id-1 div.sk-serial {display: flex;flex-direction: column;align-items: center;background-color: white;padding-right: 0.2em;padding-left: 0.2em;position: relative;}#sk-container-id-1 div.sk-item {position: relative;z-index: 1;}#sk-container-id-1 div.sk-parallel {display: flex;align-items: stretch;justify-content: center;background-color: white;position: relative;}#sk-container-id-1 div.sk-item::before, #sk-container-id-1 div.sk-parallel-item::before {content: \"\";position: absolute;border-left: 1px solid gray;box-sizing: border-box;top: 0;bottom: 0;left: 50%;z-index: -1;}#sk-container-id-1 div.sk-parallel-item {display: flex;flex-direction: column;z-index: 1;position: relative;background-color: white;}#sk-container-id-1 div.sk-parallel-item:first-child::after {align-self: flex-end;width: 50%;}#sk-container-id-1 div.sk-parallel-item:last-child::after {align-self: flex-start;width: 50%;}#sk-container-id-1 div.sk-parallel-item:only-child::after {width: 0;}#sk-container-id-1 div.sk-dashed-wrapped {border: 1px dashed gray;margin: 0 0.4em 0.5em 0.4em;box-sizing: border-box;padding-bottom: 0.4em;background-color: white;}#sk-container-id-1 div.sk-label label {font-family: monospace;font-weight: bold;display: inline-block;line-height: 1.2em;}#sk-container-id-1 div.sk-label-container {text-align: center;}#sk-container-id-1 div.sk-container {/* jupyter's `normalize.less` sets `[hidden] { display: none; }` but bootstrap.min.css set `[hidden] { display: none !important; }` so we also need the `!important` here to be able to override the default hidden behavior on the sphinx rendered scikit-learn.org. See: https://github.com/scikit-learn/scikit-learn/issues/21755 */display: inline-block !important;position: relative;}#sk-container-id-1 div.sk-text-repr-fallback {display: none;}</style><div id=\"sk-container-id-1\" class=\"sk-top-container\"><div class=\"sk-text-repr-fallback\"><pre>ColumnTransformer(transformers=[(&#x27;numeric&#x27;,\n",
              "                                 Pipeline(steps=[(&#x27;std_scaler&#x27;,\n",
              "                                                  StandardScaler())]),\n",
              "                                 [&#x27;Seniorcitizen&#x27;, &#x27;Charges_total&#x27;, &#x27;Tenure&#x27;,\n",
              "                                  &#x27;Charges_monthly&#x27;, &#x27;TotalServices&#x27;]),\n",
              "                                (&#x27;categoric&#x27;,\n",
              "                                 Pipeline(steps=[(&#x27;encoder&#x27;,\n",
              "                                                  CatBoostEncoder())]),\n",
              "                                 [&#x27;Deviceprotection&#x27;, &#x27;Onlinesecurity&#x27;,\n",
              "                                  &#x27;Multiplelines&#x27;, &#x27;Phoneservice&#x27;, &#x27;Gender&#x27;,\n",
              "                                  &#x27;Techsupport&#x27;, &#x27;Streamingmovies&#x27;, &#x27;Contract&#x27;,\n",
              "                                  &#x27;Partner&#x27;, &#x27;Paperlessbilling&#x27;, &#x27;Dependents&#x27;,\n",
              "                                  &#x27;Paymentmethod&#x27;, &#x27;Internetservice&#x27;,\n",
              "                                  &#x27;Streamingtv&#x27;, &#x27;Onlinebackup&#x27;])])</pre><b>In a Jupyter environment, please rerun this cell to show the HTML representation or trust the notebook. <br />On GitHub, the HTML representation is unable to render, please try loading this page with nbviewer.org.</b></div><div class=\"sk-container\" hidden><div class=\"sk-item sk-dashed-wrapped\"><div class=\"sk-label-container\"><div class=\"sk-label sk-toggleable\"><input class=\"sk-toggleable__control sk-hidden--visually\" id=\"sk-estimator-id-1\" type=\"checkbox\" ><label for=\"sk-estimator-id-1\" class=\"sk-toggleable__label sk-toggleable__label-arrow\">ColumnTransformer</label><div class=\"sk-toggleable__content\"><pre>ColumnTransformer(transformers=[(&#x27;numeric&#x27;,\n",
              "                                 Pipeline(steps=[(&#x27;std_scaler&#x27;,\n",
              "                                                  StandardScaler())]),\n",
              "                                 [&#x27;Seniorcitizen&#x27;, &#x27;Charges_total&#x27;, &#x27;Tenure&#x27;,\n",
              "                                  &#x27;Charges_monthly&#x27;, &#x27;TotalServices&#x27;]),\n",
              "                                (&#x27;categoric&#x27;,\n",
              "                                 Pipeline(steps=[(&#x27;encoder&#x27;,\n",
              "                                                  CatBoostEncoder())]),\n",
              "                                 [&#x27;Deviceprotection&#x27;, &#x27;Onlinesecurity&#x27;,\n",
              "                                  &#x27;Multiplelines&#x27;, &#x27;Phoneservice&#x27;, &#x27;Gender&#x27;,\n",
              "                                  &#x27;Techsupport&#x27;, &#x27;Streamingmovies&#x27;, &#x27;Contract&#x27;,\n",
              "                                  &#x27;Partner&#x27;, &#x27;Paperlessbilling&#x27;, &#x27;Dependents&#x27;,\n",
              "                                  &#x27;Paymentmethod&#x27;, &#x27;Internetservice&#x27;,\n",
              "                                  &#x27;Streamingtv&#x27;, &#x27;Onlinebackup&#x27;])])</pre></div></div></div><div class=\"sk-parallel\"><div class=\"sk-parallel-item\"><div class=\"sk-item\"><div class=\"sk-label-container\"><div class=\"sk-label sk-toggleable\"><input class=\"sk-toggleable__control sk-hidden--visually\" id=\"sk-estimator-id-2\" type=\"checkbox\" ><label for=\"sk-estimator-id-2\" class=\"sk-toggleable__label sk-toggleable__label-arrow\">numeric</label><div class=\"sk-toggleable__content\"><pre>[&#x27;Seniorcitizen&#x27;, &#x27;Charges_total&#x27;, &#x27;Tenure&#x27;, &#x27;Charges_monthly&#x27;, &#x27;TotalServices&#x27;]</pre></div></div></div><div class=\"sk-serial\"><div class=\"sk-item\"><div class=\"sk-serial\"><div class=\"sk-item\"><div class=\"sk-estimator sk-toggleable\"><input class=\"sk-toggleable__control sk-hidden--visually\" id=\"sk-estimator-id-3\" type=\"checkbox\" ><label for=\"sk-estimator-id-3\" class=\"sk-toggleable__label sk-toggleable__label-arrow\">StandardScaler</label><div class=\"sk-toggleable__content\"><pre>StandardScaler()</pre></div></div></div></div></div></div></div></div><div class=\"sk-parallel-item\"><div class=\"sk-item\"><div class=\"sk-label-container\"><div class=\"sk-label sk-toggleable\"><input class=\"sk-toggleable__control sk-hidden--visually\" id=\"sk-estimator-id-4\" type=\"checkbox\" ><label for=\"sk-estimator-id-4\" class=\"sk-toggleable__label sk-toggleable__label-arrow\">categoric</label><div class=\"sk-toggleable__content\"><pre>[&#x27;Deviceprotection&#x27;, &#x27;Onlinesecurity&#x27;, &#x27;Multiplelines&#x27;, &#x27;Phoneservice&#x27;, &#x27;Gender&#x27;, &#x27;Techsupport&#x27;, &#x27;Streamingmovies&#x27;, &#x27;Contract&#x27;, &#x27;Partner&#x27;, &#x27;Paperlessbilling&#x27;, &#x27;Dependents&#x27;, &#x27;Paymentmethod&#x27;, &#x27;Internetservice&#x27;, &#x27;Streamingtv&#x27;, &#x27;Onlinebackup&#x27;]</pre></div></div></div><div class=\"sk-serial\"><div class=\"sk-item\"><div class=\"sk-serial\"><div class=\"sk-item\"><div class=\"sk-estimator sk-toggleable\"><input class=\"sk-toggleable__control sk-hidden--visually\" id=\"sk-estimator-id-5\" type=\"checkbox\" ><label for=\"sk-estimator-id-5\" class=\"sk-toggleable__label sk-toggleable__label-arrow\">CatBoostEncoder</label><div class=\"sk-toggleable__content\"><pre>CatBoostEncoder()</pre></div></div></div></div></div></div></div></div></div></div></div></div>"
            ],
            "text/plain": [
              "ColumnTransformer(transformers=[('numeric',\n",
              "                                 Pipeline(steps=[('std_scaler',\n",
              "                                                  StandardScaler())]),\n",
              "                                 ['Seniorcitizen', 'Charges_total', 'Tenure',\n",
              "                                  'Charges_monthly', 'TotalServices']),\n",
              "                                ('categoric',\n",
              "                                 Pipeline(steps=[('encoder',\n",
              "                                                  CatBoostEncoder())]),\n",
              "                                 ['Deviceprotection', 'Onlinesecurity',\n",
              "                                  'Multiplelines', 'Phoneservice', 'Gender',\n",
              "                                  'Techsupport', 'Streamingmovies', 'Contract',\n",
              "                                  'Partner', 'Paperlessbilling', 'Dependents',\n",
              "                                  'Paymentmethod', 'Internetservice',\n",
              "                                  'Streamingtv', 'Onlinebackup'])])"
            ]
          },
          "execution_count": 4,
          "metadata": {},
          "output_type": "execute_result"
        }
      ],
      "source": [
        "from sklearn.pipeline import Pipeline\n",
        "from sklearn.preprocessing import StandardScaler\n",
        "from category_encoders import CatBoostEncoder\n",
        "from sklearn.compose import ColumnTransformer\n",
        "\n",
        "cols_num = list(set(X.select_dtypes('number')))\n",
        "cols_cat = list(set(X.select_dtypes('object')))\n",
        "\n",
        "pipe_cat = Pipeline([('encoder', CatBoostEncoder())])\n",
        "pipe_num = Pipeline([('std_scaler', StandardScaler())])\n",
        "\n",
        "preprocessor = ColumnTransformer([('numeric', pipe_num, cols_num),\n",
        "                                  ('categoric', pipe_cat, cols_cat)])\n",
        "preprocessor\n",
        "\n",
        "#pipeline_completo =Pipeline([('Preprocessor',preprocessor),('model', None)])"
      ]
    },
    {
      "cell_type": "markdown",
      "metadata": {
        "id": "79ILYcGS9PZk"
      },
      "source": [
        "A partir deste ponto, nosso trabalho se ramificará nas três abordagens distintas que falamos anteriormente. Ao final, identificaremos qual delas é a mais eficaz, juntamente com a escolha do modelo de classificação adequado. Também discutiremos as medidas que a empresa Novexus pode adotar para reduzir a taxa de Churn."
      ]
    },
    {
      "cell_type": "markdown",
      "metadata": {
        "id": "oJmSnugICc1C"
      },
      "source": [
        "<div style=\"background-color: #171821; color: white; padding: 10px; text-align: center; font-size: 20px;\">\n",
        "    <h1>Construção do modelo</h1>\n",
        "</div>"
      ]
    },
    {
      "cell_type": "markdown",
      "metadata": {
        "id": "Ty8IukqOESeU"
      },
      "source": [
        "## Conjunto de treino e teste"
      ]
    },
    {
      "cell_type": "code",
      "execution_count": 5,
      "metadata": {},
      "outputs": [],
      "source": [
        "from sklearn.model_selection import train_test_split\n",
        "\n",
        "n = 42\n",
        "X_train, X_test, y_train, y_test = train_test_split(X, y, test_size=0.2, stratify = y, random_state = n)"
      ]
    },
    {
      "cell_type": "markdown",
      "metadata": {
        "id": "OWtLlukzG242"
      },
      "source": [
        "##  Usando K-fold Cross-Validation\n",
        "\n",
        "Uma maneira eficaz de avaliar o desempenho de um modelo de machine learning é através da validação cruzada, especificamente usando a técnica chamada de **K-fold Cross-Validation**. Em vez de simplesmente dividir o conjunto de treinamento em um grupo de treinamento e outro de validação, essa abordagem envolve dividir o conjunto de treinamento em **K** subconjuntos distintos chamados \"folds\". Em seu exemplo, usamos **K = 3**, o que significa que o conjunto de treinamento será dividido em 3 folds.\n",
        "\n",
        "A ideia principal por trás do K-fold Cross-Validation é treinar e avaliar o modelo K vezes, onde em cada iteração um fold diferente é escolhido para ser o conjunto de validação, enquanto os outros **K - 1** folds são usados para treinamento. Isso nos permite obter várias estimativas do desempenho do modelo, reduzindo o impacto da aleatoriedade na divisão dos dados em apenas dois grupos (treinamento e validação).\n",
        "\n",
        "Aqui entra em cena a observação sobre **`RepeatedStratifiedKFold`**. A estratégia de divisão dos dados em folds é importante para garantir que as classes estejam balanceadas em cada fold, especialmente quando lidamos com conjuntos de dados desequilibrados, onde uma classe tem muitos mais exemplos do que a outra. O `RepeatedStratifiedKFold` é uma variação do K-fold que mantém essa estratégia de divisão estratificada e também permite repetir o processo várias vezes para aumentar a robustez da avaliação do modelo. Em outras palavras, ele ajuda a garantir que a avaliação do modelo seja consistente e não dependa da aleatoriedade na escolha dos folds.\n",
        "\n",
        "**Observação:** Oversampling e Undersampling foram usados apenas no conjunto de treinamento durante o Cross Validation!!!"
      ]
    },
    {
      "cell_type": "code",
      "execution_count": 6,
      "metadata": {},
      "outputs": [
        {
          "data": {
            "text/html": [
              "<div>\n",
              "<style scoped>\n",
              "    .dataframe tbody tr th:only-of-type {\n",
              "        vertical-align: middle;\n",
              "    }\n",
              "\n",
              "    .dataframe tbody tr th {\n",
              "        vertical-align: top;\n",
              "    }\n",
              "\n",
              "    .dataframe thead th {\n",
              "        text-align: right;\n",
              "    }\n",
              "</style>\n",
              "<table border=\"1\" class=\"dataframe\">\n",
              "  <thead>\n",
              "    <tr style=\"text-align: right;\">\n",
              "      <th></th>\n",
              "      <th>Modelo</th>\n",
              "      <th>ROC-AUC</th>\n",
              "      <th>Accuracy</th>\n",
              "      <th>Precision</th>\n",
              "      <th>Recall</th>\n",
              "      <th>F1-Score</th>\n",
              "    </tr>\n",
              "  </thead>\n",
              "  <tbody>\n",
              "    <tr>\n",
              "      <th>0</th>\n",
              "      <td>Regressão Logística</td>\n",
              "      <td>0.840</td>\n",
              "      <td>0.738</td>\n",
              "      <td>0.504</td>\n",
              "      <td>0.810</td>\n",
              "      <td>0.621</td>\n",
              "    </tr>\n",
              "    <tr>\n",
              "      <th>5</th>\n",
              "      <td>Support Vector Machine</td>\n",
              "      <td>0.832</td>\n",
              "      <td>0.741</td>\n",
              "      <td>0.508</td>\n",
              "      <td>0.812</td>\n",
              "      <td>0.621</td>\n",
              "    </tr>\n",
              "    <tr>\n",
              "      <th>4</th>\n",
              "      <td>Gradient Boosting</td>\n",
              "      <td>0.840</td>\n",
              "      <td>0.779</td>\n",
              "      <td>0.580</td>\n",
              "      <td>0.669</td>\n",
              "      <td>0.619</td>\n",
              "    </tr>\n",
              "    <tr>\n",
              "      <th>3</th>\n",
              "      <td>Floresta Randômica</td>\n",
              "      <td>0.833</td>\n",
              "      <td>0.791</td>\n",
              "      <td>0.615</td>\n",
              "      <td>0.576</td>\n",
              "      <td>0.595</td>\n",
              "    </tr>\n",
              "    <tr>\n",
              "      <th>1</th>\n",
              "      <td>K-Vizinhos Mais Próximos (KNN)</td>\n",
              "      <td>0.772</td>\n",
              "      <td>0.704</td>\n",
              "      <td>0.465</td>\n",
              "      <td>0.745</td>\n",
              "      <td>0.572</td>\n",
              "    </tr>\n",
              "    <tr>\n",
              "      <th>2</th>\n",
              "      <td>Árvore de Decisão</td>\n",
              "      <td>0.666</td>\n",
              "      <td>0.720</td>\n",
              "      <td>0.469</td>\n",
              "      <td>0.511</td>\n",
              "      <td>0.479</td>\n",
              "    </tr>\n",
              "  </tbody>\n",
              "</table>\n",
              "</div>"
            ],
            "text/plain": [
              "                           Modelo  ROC-AUC  Accuracy  Precision  Recall  \\\n",
              "0             Regressão Logística    0.840     0.738      0.504   0.810   \n",
              "5          Support Vector Machine    0.832     0.741      0.508   0.812   \n",
              "4               Gradient Boosting    0.840     0.779      0.580   0.669   \n",
              "3              Floresta Randômica    0.833     0.791      0.615   0.576   \n",
              "1  K-Vizinhos Mais Próximos (KNN)    0.772     0.704      0.465   0.745   \n",
              "2               Árvore de Decisão    0.666     0.720      0.469   0.511   \n",
              "\n",
              "   F1-Score  \n",
              "0     0.621  \n",
              "5     0.621  \n",
              "4     0.619  \n",
              "3     0.595  \n",
              "1     0.572  \n",
              "2     0.479  "
            ]
          },
          "execution_count": 6,
          "metadata": {},
          "output_type": "execute_result"
        }
      ],
      "source": [
        "df_over = jdi.cross_validation_models_set('Oversampling', preprocessor, X_train, y_train)\n",
        "df_over.sort_values('F1-Score', ascending = False)"
      ]
    },
    {
      "cell_type": "code",
      "execution_count": 7,
      "metadata": {},
      "outputs": [
        {
          "data": {
            "text/html": [
              "<div>\n",
              "<style scoped>\n",
              "    .dataframe tbody tr th:only-of-type {\n",
              "        vertical-align: middle;\n",
              "    }\n",
              "\n",
              "    .dataframe tbody tr th {\n",
              "        vertical-align: top;\n",
              "    }\n",
              "\n",
              "    .dataframe thead th {\n",
              "        text-align: right;\n",
              "    }\n",
              "</style>\n",
              "<table border=\"1\" class=\"dataframe\">\n",
              "  <thead>\n",
              "    <tr style=\"text-align: right;\">\n",
              "      <th></th>\n",
              "      <th>Modelo</th>\n",
              "      <th>ROC-AUC</th>\n",
              "      <th>Accuracy</th>\n",
              "      <th>Precision</th>\n",
              "      <th>Recall</th>\n",
              "      <th>F1-Score</th>\n",
              "    </tr>\n",
              "  </thead>\n",
              "  <tbody>\n",
              "    <tr>\n",
              "      <th>4</th>\n",
              "      <td>Gradient Boosting</td>\n",
              "      <td>0.845</td>\n",
              "      <td>0.800</td>\n",
              "      <td>0.626</td>\n",
              "      <td>0.611</td>\n",
              "      <td>0.618</td>\n",
              "    </tr>\n",
              "    <tr>\n",
              "      <th>0</th>\n",
              "      <td>Regressão Logística</td>\n",
              "      <td>0.840</td>\n",
              "      <td>0.796</td>\n",
              "      <td>0.615</td>\n",
              "      <td>0.617</td>\n",
              "      <td>0.616</td>\n",
              "    </tr>\n",
              "    <tr>\n",
              "      <th>3</th>\n",
              "      <td>Floresta Randômica</td>\n",
              "      <td>0.838</td>\n",
              "      <td>0.796</td>\n",
              "      <td>0.621</td>\n",
              "      <td>0.596</td>\n",
              "      <td>0.607</td>\n",
              "    </tr>\n",
              "    <tr>\n",
              "      <th>5</th>\n",
              "      <td>Support Vector Machine</td>\n",
              "      <td>0.813</td>\n",
              "      <td>0.793</td>\n",
              "      <td>0.634</td>\n",
              "      <td>0.525</td>\n",
              "      <td>0.574</td>\n",
              "    </tr>\n",
              "    <tr>\n",
              "      <th>1</th>\n",
              "      <td>K-Vizinhos Mais Próximos (KNN)</td>\n",
              "      <td>0.786</td>\n",
              "      <td>0.762</td>\n",
              "      <td>0.547</td>\n",
              "      <td>0.601</td>\n",
              "      <td>0.572</td>\n",
              "    </tr>\n",
              "    <tr>\n",
              "      <th>2</th>\n",
              "      <td>Árvore de Decisão</td>\n",
              "      <td>0.672</td>\n",
              "      <td>0.721</td>\n",
              "      <td>0.481</td>\n",
              "      <td>0.567</td>\n",
              "      <td>0.519</td>\n",
              "    </tr>\n",
              "  </tbody>\n",
              "</table>\n",
              "</div>"
            ],
            "text/plain": [
              "                           Modelo  ROC-AUC  Accuracy  Precision  Recall  \\\n",
              "4               Gradient Boosting    0.845     0.800      0.626   0.611   \n",
              "0             Regressão Logística    0.840     0.796      0.615   0.617   \n",
              "3              Floresta Randômica    0.838     0.796      0.621   0.596   \n",
              "5          Support Vector Machine    0.813     0.793      0.634   0.525   \n",
              "1  K-Vizinhos Mais Próximos (KNN)    0.786     0.762      0.547   0.601   \n",
              "2               Árvore de Decisão    0.672     0.721      0.481   0.567   \n",
              "\n",
              "   F1-Score  \n",
              "4     0.618  \n",
              "0     0.616  \n",
              "3     0.607  \n",
              "5     0.574  \n",
              "1     0.572  \n",
              "2     0.519  "
            ]
          },
          "execution_count": 7,
          "metadata": {},
          "output_type": "execute_result"
        }
      ],
      "source": [
        "df_under = jdi.cross_validation_models_set('Undersampling', preprocessor, X_train, y_train)\n",
        "df_under.sort_values('F1-Score', ascending = False)"
      ]
    },
    {
      "cell_type": "code",
      "execution_count": 8,
      "metadata": {},
      "outputs": [
        {
          "data": {
            "text/html": [
              "<div>\n",
              "<style scoped>\n",
              "    .dataframe tbody tr th:only-of-type {\n",
              "        vertical-align: middle;\n",
              "    }\n",
              "\n",
              "    .dataframe tbody tr th {\n",
              "        vertical-align: top;\n",
              "    }\n",
              "\n",
              "    .dataframe thead th {\n",
              "        text-align: right;\n",
              "    }\n",
              "</style>\n",
              "<table border=\"1\" class=\"dataframe\">\n",
              "  <thead>\n",
              "    <tr style=\"text-align: right;\">\n",
              "      <th></th>\n",
              "      <th>Modelo</th>\n",
              "      <th>ROC-AUC</th>\n",
              "      <th>Accuracy</th>\n",
              "      <th>Precision</th>\n",
              "      <th>Recall</th>\n",
              "      <th>F1-Score</th>\n",
              "    </tr>\n",
              "  </thead>\n",
              "  <tbody>\n",
              "    <tr>\n",
              "      <th>0</th>\n",
              "      <td>Regressão Logística</td>\n",
              "      <td>0.840</td>\n",
              "      <td>0.801</td>\n",
              "      <td>0.656</td>\n",
              "      <td>0.528</td>\n",
              "      <td>0.584</td>\n",
              "    </tr>\n",
              "    <tr>\n",
              "      <th>4</th>\n",
              "      <td>Gradient Boosting</td>\n",
              "      <td>0.845</td>\n",
              "      <td>0.802</td>\n",
              "      <td>0.661</td>\n",
              "      <td>0.523</td>\n",
              "      <td>0.583</td>\n",
              "    </tr>\n",
              "    <tr>\n",
              "      <th>1</th>\n",
              "      <td>K-Vizinhos Mais Próximos (KNN)</td>\n",
              "      <td>0.780</td>\n",
              "      <td>0.767</td>\n",
              "      <td>0.567</td>\n",
              "      <td>0.524</td>\n",
              "      <td>0.545</td>\n",
              "    </tr>\n",
              "    <tr>\n",
              "      <th>3</th>\n",
              "      <td>Floresta Randômica</td>\n",
              "      <td>0.833</td>\n",
              "      <td>0.794</td>\n",
              "      <td>0.660</td>\n",
              "      <td>0.465</td>\n",
              "      <td>0.541</td>\n",
              "    </tr>\n",
              "    <tr>\n",
              "      <th>5</th>\n",
              "      <td>Support Vector Machine</td>\n",
              "      <td>0.797</td>\n",
              "      <td>0.793</td>\n",
              "      <td>0.668</td>\n",
              "      <td>0.436</td>\n",
              "      <td>0.527</td>\n",
              "    </tr>\n",
              "    <tr>\n",
              "      <th>2</th>\n",
              "      <td>Árvore de Decisão</td>\n",
              "      <td>0.662</td>\n",
              "      <td>0.729</td>\n",
              "      <td>0.491</td>\n",
              "      <td>0.521</td>\n",
              "      <td>0.504</td>\n",
              "    </tr>\n",
              "  </tbody>\n",
              "</table>\n",
              "</div>"
            ],
            "text/plain": [
              "                           Modelo  ROC-AUC  Accuracy  Precision  Recall  \\\n",
              "0             Regressão Logística    0.840     0.801      0.656   0.528   \n",
              "4               Gradient Boosting    0.845     0.802      0.661   0.523   \n",
              "1  K-Vizinhos Mais Próximos (KNN)    0.780     0.767      0.567   0.524   \n",
              "3              Floresta Randômica    0.833     0.794      0.660   0.465   \n",
              "5          Support Vector Machine    0.797     0.793      0.668   0.436   \n",
              "2               Árvore de Decisão    0.662     0.729      0.491   0.521   \n",
              "\n",
              "   F1-Score  \n",
              "0     0.584  \n",
              "4     0.583  \n",
              "1     0.545  \n",
              "3     0.541  \n",
              "5     0.527  \n",
              "2     0.504  "
            ]
          },
          "execution_count": 8,
          "metadata": {},
          "output_type": "execute_result"
        }
      ],
      "source": [
        "df_def = jdi.cross_validation_models_set('Default', preprocessor, X_train, y_train)\n",
        "df_def.sort_values('F1-Score', ascending = False)"
      ]
    },
    {
      "cell_type": "markdown",
      "metadata": {
        "id": "YM_5QH8RoPVc"
      },
      "source": [
        "### Análise preliminar\n",
        "\n",
        "Após o treinamento de 6 modelos, percebemos que, o melhor F1-Score foi:\n",
        "- Para abordagem Oversamplig: o modelo Support Vector Machine\n",
        "- Para abordagem Undersampling: o modelo Gradient Boosting\n",
        "- Para abordagem Default: o modelo Regressão Logística.\n",
        "\n",
        "Escolheremos mais dois modelos com melhor desempelho nessa métrica para cada abordagem e faremos um hyperparameter tuning usando Grid Search.\n",
        "\n",
        "> Support Vector Machine, Regressão Logística, Gradient Boosting e Floresta Randômica."
      ]
    },
    {
      "cell_type": "markdown",
      "metadata": {
        "id": "0oyk2Hgf92xS"
      },
      "source": [
        "## Hyperparameter tuning usando Grid Search\n",
        "\n",
        "Vamos configurar a grade de parâmetros para cada modelo:"
      ]
    },
    {
      "cell_type": "code",
      "execution_count": 11,
      "metadata": {
        "id": "IOijxI2v63Bt"
      },
      "outputs": [],
      "source": [
        "from sklearn.linear_model import LogisticRegression\n",
        "from sklearn.ensemble import RandomForestClassifier, GradientBoostingClassifier\n",
        "from sklearn.svm import SVC\n",
        "\n",
        "svm_params = {\n",
        "    'model__C': [0.1, 1, 10],\n",
        "    'model__kernel': ['linear']\n",
        "}\n",
        "\n",
        "gradient_boosting_params = {\n",
        "    'model__learning_rate': [0.1, 0.01],\n",
        "    'model__n_estimators': [100, 200],\n",
        "    'model__max_depth': [3, 4, 5]\n",
        "}\n",
        "\n",
        "logistic_regression_params = {\n",
        "    'model__penalty': ['l1', 'l2'],\n",
        "    'model__C': [0.1, 1, 10],\n",
        "    'model__solver': ['liblinear', 'saga'],\n",
        "    'model__max_iter': [1000]\n",
        "}\n",
        "\n",
        "random_forest_params = {\n",
        "    'model__n_estimators': [50, 100, 150],\n",
        "    'model__max_depth': [5, 10, 15]\n",
        "}\n",
        "\n",
        "modelos = {\n",
        "    'Gradient Boosting': (GradientBoostingClassifier(random_state = n), gradient_boosting_params),\n",
        "    'Logistic Regression': (LogisticRegression(random_state = n), logistic_regression_params),\n",
        "    'Support Vector Machine (Linear Kernel)': (SVC(random_state = n), svm_params),\n",
        "    'Floresta Randômica': (RandomForestClassifier(random_state = n), random_forest_params)\n",
        "}"
      ]
    },
    {
      "cell_type": "markdown",
      "metadata": {},
      "source": [
        "### Oversampling"
      ]
    },
    {
      "cell_type": "code",
      "execution_count": 12,
      "metadata": {},
      "outputs": [
        {
          "name": "stdout",
          "output_type": "stream",
          "text": [
            "Best parameters for Gradient Boosting: {'model__learning_rate': 0.1, 'model__max_depth': 4, 'model__n_estimators': 100}\n",
            "Best parameters for Logistic Regression: {'model__C': 0.1, 'model__max_iter': 1000, 'model__penalty': 'l2', 'model__solver': 'saga'}\n",
            "Best parameters for Support Vector Machine (Linear Kernel): {'model__C': 0.1, 'model__kernel': 'linear'}\n",
            "Best parameters for Floresta Randômica: {'model__max_depth': 10, 'model__n_estimators': 150}\n"
          ]
        }
      ],
      "source": [
        "from imblearn.over_sampling import SMOTE\n",
        "gs_over = jdi.hyperparameter_optimization(SMOTE(), preprocessor, X_train, y_train, modelos)"
      ]
    },
    {
      "cell_type": "code",
      "execution_count": 16,
      "metadata": {},
      "outputs": [
        {
          "data": {
            "text/html": [
              "<div>\n",
              "<style scoped>\n",
              "    .dataframe tbody tr th:only-of-type {\n",
              "        vertical-align: middle;\n",
              "    }\n",
              "\n",
              "    .dataframe tbody tr th {\n",
              "        vertical-align: top;\n",
              "    }\n",
              "\n",
              "    .dataframe thead th {\n",
              "        text-align: right;\n",
              "    }\n",
              "</style>\n",
              "<table border=\"1\" class=\"dataframe\">\n",
              "  <thead>\n",
              "    <tr style=\"text-align: right;\">\n",
              "      <th></th>\n",
              "      <th>model</th>\n",
              "      <th>F1_score</th>\n",
              "      <th>Accuracy</th>\n",
              "    </tr>\n",
              "  </thead>\n",
              "  <tbody>\n",
              "    <tr>\n",
              "      <th>3</th>\n",
              "      <td>Floresta Randômica</td>\n",
              "      <td>0.730255</td>\n",
              "      <td>0.772985</td>\n",
              "    </tr>\n",
              "    <tr>\n",
              "      <th>0</th>\n",
              "      <td>Gradient Boosting</td>\n",
              "      <td>0.721536</td>\n",
              "      <td>0.767661</td>\n",
              "    </tr>\n",
              "    <tr>\n",
              "      <th>1</th>\n",
              "      <td>Logistic Regression</td>\n",
              "      <td>0.716305</td>\n",
              "      <td>0.745651</td>\n",
              "    </tr>\n",
              "    <tr>\n",
              "      <th>2</th>\n",
              "      <td>Support Vector Machine (Linear Kernel)</td>\n",
              "      <td>0.691824</td>\n",
              "      <td>0.715122</td>\n",
              "    </tr>\n",
              "  </tbody>\n",
              "</table>\n",
              "</div>"
            ],
            "text/plain": [
              "                                    model  F1_score  Accuracy\n",
              "3                      Floresta Randômica  0.730255  0.772985\n",
              "0                       Gradient Boosting  0.721536  0.767661\n",
              "1                     Logistic Regression  0.716305  0.745651\n",
              "2  Support Vector Machine (Linear Kernel)  0.691824  0.715122"
            ]
          },
          "execution_count": 16,
          "metadata": {},
          "output_type": "execute_result"
        }
      ],
      "source": [
        "gs_over.sort_values('F1_score', ascending = False)"
      ]
    },
    {
      "cell_type": "markdown",
      "metadata": {},
      "source": [
        "### Undersampling"
      ]
    },
    {
      "cell_type": "code",
      "execution_count": 13,
      "metadata": {},
      "outputs": [
        {
          "name": "stdout",
          "output_type": "stream",
          "text": [
            "Best parameters for Gradient Boosting: {'model__learning_rate': 0.1, 'model__max_depth': 4, 'model__n_estimators': 100}\n",
            "Best parameters for Logistic Regression: {'model__C': 10, 'model__max_iter': 1000, 'model__penalty': 'l1', 'model__solver': 'liblinear'}\n",
            "Best parameters for Support Vector Machine (Linear Kernel): {'model__C': 10, 'model__kernel': 'linear'}\n",
            "Best parameters for Floresta Randômica: {'model__max_depth': 5, 'model__n_estimators': 150}\n"
          ]
        }
      ],
      "source": [
        "from imblearn.under_sampling import TomekLinks\n",
        "gs_under = jdi.hyperparameter_optimization(TomekLinks(), preprocessor, X_train, y_train, modelos)"
      ]
    },
    {
      "cell_type": "code",
      "execution_count": 17,
      "metadata": {},
      "outputs": [
        {
          "data": {
            "text/html": [
              "<div>\n",
              "<style scoped>\n",
              "    .dataframe tbody tr th:only-of-type {\n",
              "        vertical-align: middle;\n",
              "    }\n",
              "\n",
              "    .dataframe tbody tr th {\n",
              "        vertical-align: top;\n",
              "    }\n",
              "\n",
              "    .dataframe thead th {\n",
              "        text-align: right;\n",
              "    }\n",
              "</style>\n",
              "<table border=\"1\" class=\"dataframe\">\n",
              "  <thead>\n",
              "    <tr style=\"text-align: right;\">\n",
              "      <th></th>\n",
              "      <th>model</th>\n",
              "      <th>F1_score</th>\n",
              "      <th>Accuracy</th>\n",
              "    </tr>\n",
              "  </thead>\n",
              "  <tbody>\n",
              "    <tr>\n",
              "      <th>1</th>\n",
              "      <td>Logistic Regression</td>\n",
              "      <td>0.738448</td>\n",
              "      <td>0.796060</td>\n",
              "    </tr>\n",
              "    <tr>\n",
              "      <th>3</th>\n",
              "      <td>Floresta Randômica</td>\n",
              "      <td>0.736150</td>\n",
              "      <td>0.798012</td>\n",
              "    </tr>\n",
              "    <tr>\n",
              "      <th>0</th>\n",
              "      <td>Gradient Boosting</td>\n",
              "      <td>0.734937</td>\n",
              "      <td>0.784878</td>\n",
              "    </tr>\n",
              "    <tr>\n",
              "      <th>2</th>\n",
              "      <td>Support Vector Machine (Linear Kernel)</td>\n",
              "      <td>0.730297</td>\n",
              "      <td>0.791090</td>\n",
              "    </tr>\n",
              "  </tbody>\n",
              "</table>\n",
              "</div>"
            ],
            "text/plain": [
              "                                    model  F1_score  Accuracy\n",
              "1                     Logistic Regression  0.738448  0.796060\n",
              "3                      Floresta Randômica  0.736150  0.798012\n",
              "0                       Gradient Boosting  0.734937  0.784878\n",
              "2  Support Vector Machine (Linear Kernel)  0.730297  0.791090"
            ]
          },
          "execution_count": 17,
          "metadata": {},
          "output_type": "execute_result"
        }
      ],
      "source": [
        "gs_under.sort_values('F1_score', ascending = False)"
      ]
    },
    {
      "cell_type": "markdown",
      "metadata": {},
      "source": [
        "### Default"
      ]
    },
    {
      "cell_type": "code",
      "execution_count": 18,
      "metadata": {},
      "outputs": [
        {
          "name": "stdout",
          "output_type": "stream",
          "text": [
            "Best parameters for Gradient Boosting: {'model__learning_rate': 0.1, 'model__max_depth': 3, 'model__n_estimators': 100}\n",
            "Best parameters for Logistic Regression: {'model__C': 10, 'model__max_iter': 1000, 'model__penalty': 'l1', 'model__solver': 'liblinear'}\n",
            "Best parameters for Support Vector Machine (Linear Kernel): {'model__C': 10, 'model__kernel': 'linear'}\n",
            "Best parameters for Floresta Randômica: {'model__max_depth': 10, 'model__n_estimators': 50}\n"
          ]
        }
      ],
      "source": [
        "gs_def = jdi.hyperparameter_optimization(None, preprocessor, X_train, y_train, modelos)"
      ]
    },
    {
      "cell_type": "code",
      "execution_count": 19,
      "metadata": {},
      "outputs": [
        {
          "data": {
            "text/html": [
              "<div>\n",
              "<style scoped>\n",
              "    .dataframe tbody tr th:only-of-type {\n",
              "        vertical-align: middle;\n",
              "    }\n",
              "\n",
              "    .dataframe tbody tr th {\n",
              "        vertical-align: top;\n",
              "    }\n",
              "\n",
              "    .dataframe thead th {\n",
              "        text-align: right;\n",
              "    }\n",
              "</style>\n",
              "<table border=\"1\" class=\"dataframe\">\n",
              "  <thead>\n",
              "    <tr style=\"text-align: right;\">\n",
              "      <th></th>\n",
              "      <th>model</th>\n",
              "      <th>F1_score</th>\n",
              "      <th>Accuracy</th>\n",
              "    </tr>\n",
              "  </thead>\n",
              "  <tbody>\n",
              "    <tr>\n",
              "      <th>0</th>\n",
              "      <td>Gradient Boosting</td>\n",
              "      <td>0.731286</td>\n",
              "      <td>0.788605</td>\n",
              "    </tr>\n",
              "    <tr>\n",
              "      <th>1</th>\n",
              "      <td>Logistic Regression</td>\n",
              "      <td>0.725899</td>\n",
              "      <td>0.799077</td>\n",
              "    </tr>\n",
              "    <tr>\n",
              "      <th>3</th>\n",
              "      <td>Floresta Randômica</td>\n",
              "      <td>0.725033</td>\n",
              "      <td>0.794995</td>\n",
              "    </tr>\n",
              "    <tr>\n",
              "      <th>2</th>\n",
              "      <td>Support Vector Machine (Linear Kernel)</td>\n",
              "      <td>0.721790</td>\n",
              "      <td>0.796060</td>\n",
              "    </tr>\n",
              "  </tbody>\n",
              "</table>\n",
              "</div>"
            ],
            "text/plain": [
              "                                    model  F1_score  Accuracy\n",
              "0                       Gradient Boosting  0.731286  0.788605\n",
              "1                     Logistic Regression  0.725899  0.799077\n",
              "3                      Floresta Randômica  0.725033  0.794995\n",
              "2  Support Vector Machine (Linear Kernel)  0.721790  0.796060"
            ]
          },
          "execution_count": 19,
          "metadata": {},
          "output_type": "execute_result"
        }
      ],
      "source": [
        "gs_def.sort_values('F1_score', ascending = False)"
      ]
    },
    {
      "cell_type": "markdown",
      "metadata": {
        "id": "0s4zaKAbRRkg"
      },
      "source": [
        "Observe o seguinte:\n",
        "\n",
        "- Na **estratégia de Oversampling**, o melhor modelo, a Floresta Randômica, conseguiu atingir um F1-Score de 73,03%.\n",
        "- Na **estratégia de Oversampling**, o melhor modelo, a Regressão Logística, conseguiu atingir um F1-Score de 73,84%.\n",
        "- Na **estratégia Padrão**, o melhor modelo, o Gradient Boosting, conseguiu atingir um F1-Score de 73,12%.\n",
        "\n",
        "Apesar dos três modelos terem pontuações muito próximas, a estratégia de Oversampling superou as outras duas abordagens. Vamos, portanto, utilizar esses três melhores modelos para avaliar no conjunto de teste e, em seguida, determinar definitivamente qual é o melhor modelo para prosseguirmos com o lançamento."
      ]
    },
    {
      "cell_type": "markdown",
      "metadata": {
        "id": "Fwx65NN0UCkf"
      },
      "source": [
        "## Floresta Randômica, Regressão Logística e Gradient Boosting como melhores modelos"
      ]
    },
    {
      "cell_type": "code",
      "execution_count": 8,
      "metadata": {},
      "outputs": [
        {
          "data": {
            "text/html": [
              "<style>#sk-container-id-2 {color: black;}#sk-container-id-2 pre{padding: 0;}#sk-container-id-2 div.sk-toggleable {background-color: white;}#sk-container-id-2 label.sk-toggleable__label {cursor: pointer;display: block;width: 100%;margin-bottom: 0;padding: 0.3em;box-sizing: border-box;text-align: center;}#sk-container-id-2 label.sk-toggleable__label-arrow:before {content: \"▸\";float: left;margin-right: 0.25em;color: #696969;}#sk-container-id-2 label.sk-toggleable__label-arrow:hover:before {color: black;}#sk-container-id-2 div.sk-estimator:hover label.sk-toggleable__label-arrow:before {color: black;}#sk-container-id-2 div.sk-toggleable__content {max-height: 0;max-width: 0;overflow: hidden;text-align: left;background-color: #f0f8ff;}#sk-container-id-2 div.sk-toggleable__content pre {margin: 0.2em;color: black;border-radius: 0.25em;background-color: #f0f8ff;}#sk-container-id-2 input.sk-toggleable__control:checked~div.sk-toggleable__content {max-height: 200px;max-width: 100%;overflow: auto;}#sk-container-id-2 input.sk-toggleable__control:checked~label.sk-toggleable__label-arrow:before {content: \"▾\";}#sk-container-id-2 div.sk-estimator input.sk-toggleable__control:checked~label.sk-toggleable__label {background-color: #d4ebff;}#sk-container-id-2 div.sk-label input.sk-toggleable__control:checked~label.sk-toggleable__label {background-color: #d4ebff;}#sk-container-id-2 input.sk-hidden--visually {border: 0;clip: rect(1px 1px 1px 1px);clip: rect(1px, 1px, 1px, 1px);height: 1px;margin: -1px;overflow: hidden;padding: 0;position: absolute;width: 1px;}#sk-container-id-2 div.sk-estimator {font-family: monospace;background-color: #f0f8ff;border: 1px dotted black;border-radius: 0.25em;box-sizing: border-box;margin-bottom: 0.5em;}#sk-container-id-2 div.sk-estimator:hover {background-color: #d4ebff;}#sk-container-id-2 div.sk-parallel-item::after {content: \"\";width: 100%;border-bottom: 1px solid gray;flex-grow: 1;}#sk-container-id-2 div.sk-label:hover label.sk-toggleable__label {background-color: #d4ebff;}#sk-container-id-2 div.sk-serial::before {content: \"\";position: absolute;border-left: 1px solid gray;box-sizing: border-box;top: 0;bottom: 0;left: 50%;z-index: 0;}#sk-container-id-2 div.sk-serial {display: flex;flex-direction: column;align-items: center;background-color: white;padding-right: 0.2em;padding-left: 0.2em;position: relative;}#sk-container-id-2 div.sk-item {position: relative;z-index: 1;}#sk-container-id-2 div.sk-parallel {display: flex;align-items: stretch;justify-content: center;background-color: white;position: relative;}#sk-container-id-2 div.sk-item::before, #sk-container-id-2 div.sk-parallel-item::before {content: \"\";position: absolute;border-left: 1px solid gray;box-sizing: border-box;top: 0;bottom: 0;left: 50%;z-index: -1;}#sk-container-id-2 div.sk-parallel-item {display: flex;flex-direction: column;z-index: 1;position: relative;background-color: white;}#sk-container-id-2 div.sk-parallel-item:first-child::after {align-self: flex-end;width: 50%;}#sk-container-id-2 div.sk-parallel-item:last-child::after {align-self: flex-start;width: 50%;}#sk-container-id-2 div.sk-parallel-item:only-child::after {width: 0;}#sk-container-id-2 div.sk-dashed-wrapped {border: 1px dashed gray;margin: 0 0.4em 0.5em 0.4em;box-sizing: border-box;padding-bottom: 0.4em;background-color: white;}#sk-container-id-2 div.sk-label label {font-family: monospace;font-weight: bold;display: inline-block;line-height: 1.2em;}#sk-container-id-2 div.sk-label-container {text-align: center;}#sk-container-id-2 div.sk-container {/* jupyter's `normalize.less` sets `[hidden] { display: none; }` but bootstrap.min.css set `[hidden] { display: none !important; }` so we also need the `!important` here to be able to override the default hidden behavior on the sphinx rendered scikit-learn.org. See: https://github.com/scikit-learn/scikit-learn/issues/21755 */display: inline-block !important;position: relative;}#sk-container-id-2 div.sk-text-repr-fallback {display: none;}</style><div id=\"sk-container-id-2\" class=\"sk-top-container\"><div class=\"sk-text-repr-fallback\"><pre>Pipeline(steps=[(&#x27;preprocessor&#x27;,\n",
              "                 ColumnTransformer(transformers=[(&#x27;numeric&#x27;,\n",
              "                                                  Pipeline(steps=[(&#x27;std_scaler&#x27;,\n",
              "                                                                   StandardScaler())]),\n",
              "                                                  [&#x27;Seniorcitizen&#x27;,\n",
              "                                                   &#x27;Charges_total&#x27;, &#x27;Tenure&#x27;,\n",
              "                                                   &#x27;Charges_monthly&#x27;,\n",
              "                                                   &#x27;TotalServices&#x27;]),\n",
              "                                                 (&#x27;categoric&#x27;,\n",
              "                                                  Pipeline(steps=[(&#x27;encoder&#x27;,\n",
              "                                                                   CatBoostEncoder())]),\n",
              "                                                  [&#x27;Deviceprotection&#x27;,\n",
              "                                                   &#x27;Onlinesecurity&#x27;,\n",
              "                                                   &#x27;Multiplelines&#x27;,\n",
              "                                                   &#x27;Phoneservice&#x27;, &#x27;Gender&#x27;,\n",
              "                                                   &#x27;Techsupport&#x27;,\n",
              "                                                   &#x27;Streamingmovies&#x27;,\n",
              "                                                   &#x27;Contract&#x27;, &#x27;Partner&#x27;,\n",
              "                                                   &#x27;Paperlessbilling&#x27;,\n",
              "                                                   &#x27;Dependents&#x27;,\n",
              "                                                   &#x27;Paymentmethod&#x27;,\n",
              "                                                   &#x27;Internetservice&#x27;,\n",
              "                                                   &#x27;Streamingtv&#x27;,\n",
              "                                                   &#x27;Onlinebackup&#x27;])])),\n",
              "                (&#x27;model&#x27;, GradientBoostingClassifier(random_state=42))])</pre><b>In a Jupyter environment, please rerun this cell to show the HTML representation or trust the notebook. <br />On GitHub, the HTML representation is unable to render, please try loading this page with nbviewer.org.</b></div><div class=\"sk-container\" hidden><div class=\"sk-item sk-dashed-wrapped\"><div class=\"sk-label-container\"><div class=\"sk-label sk-toggleable\"><input class=\"sk-toggleable__control sk-hidden--visually\" id=\"sk-estimator-id-6\" type=\"checkbox\" ><label for=\"sk-estimator-id-6\" class=\"sk-toggleable__label sk-toggleable__label-arrow\">Pipeline</label><div class=\"sk-toggleable__content\"><pre>Pipeline(steps=[(&#x27;preprocessor&#x27;,\n",
              "                 ColumnTransformer(transformers=[(&#x27;numeric&#x27;,\n",
              "                                                  Pipeline(steps=[(&#x27;std_scaler&#x27;,\n",
              "                                                                   StandardScaler())]),\n",
              "                                                  [&#x27;Seniorcitizen&#x27;,\n",
              "                                                   &#x27;Charges_total&#x27;, &#x27;Tenure&#x27;,\n",
              "                                                   &#x27;Charges_monthly&#x27;,\n",
              "                                                   &#x27;TotalServices&#x27;]),\n",
              "                                                 (&#x27;categoric&#x27;,\n",
              "                                                  Pipeline(steps=[(&#x27;encoder&#x27;,\n",
              "                                                                   CatBoostEncoder())]),\n",
              "                                                  [&#x27;Deviceprotection&#x27;,\n",
              "                                                   &#x27;Onlinesecurity&#x27;,\n",
              "                                                   &#x27;Multiplelines&#x27;,\n",
              "                                                   &#x27;Phoneservice&#x27;, &#x27;Gender&#x27;,\n",
              "                                                   &#x27;Techsupport&#x27;,\n",
              "                                                   &#x27;Streamingmovies&#x27;,\n",
              "                                                   &#x27;Contract&#x27;, &#x27;Partner&#x27;,\n",
              "                                                   &#x27;Paperlessbilling&#x27;,\n",
              "                                                   &#x27;Dependents&#x27;,\n",
              "                                                   &#x27;Paymentmethod&#x27;,\n",
              "                                                   &#x27;Internetservice&#x27;,\n",
              "                                                   &#x27;Streamingtv&#x27;,\n",
              "                                                   &#x27;Onlinebackup&#x27;])])),\n",
              "                (&#x27;model&#x27;, GradientBoostingClassifier(random_state=42))])</pre></div></div></div><div class=\"sk-serial\"><div class=\"sk-item sk-dashed-wrapped\"><div class=\"sk-label-container\"><div class=\"sk-label sk-toggleable\"><input class=\"sk-toggleable__control sk-hidden--visually\" id=\"sk-estimator-id-7\" type=\"checkbox\" ><label for=\"sk-estimator-id-7\" class=\"sk-toggleable__label sk-toggleable__label-arrow\">preprocessor: ColumnTransformer</label><div class=\"sk-toggleable__content\"><pre>ColumnTransformer(transformers=[(&#x27;numeric&#x27;,\n",
              "                                 Pipeline(steps=[(&#x27;std_scaler&#x27;,\n",
              "                                                  StandardScaler())]),\n",
              "                                 [&#x27;Seniorcitizen&#x27;, &#x27;Charges_total&#x27;, &#x27;Tenure&#x27;,\n",
              "                                  &#x27;Charges_monthly&#x27;, &#x27;TotalServices&#x27;]),\n",
              "                                (&#x27;categoric&#x27;,\n",
              "                                 Pipeline(steps=[(&#x27;encoder&#x27;,\n",
              "                                                  CatBoostEncoder())]),\n",
              "                                 [&#x27;Deviceprotection&#x27;, &#x27;Onlinesecurity&#x27;,\n",
              "                                  &#x27;Multiplelines&#x27;, &#x27;Phoneservice&#x27;, &#x27;Gender&#x27;,\n",
              "                                  &#x27;Techsupport&#x27;, &#x27;Streamingmovies&#x27;, &#x27;Contract&#x27;,\n",
              "                                  &#x27;Partner&#x27;, &#x27;Paperlessbilling&#x27;, &#x27;Dependents&#x27;,\n",
              "                                  &#x27;Paymentmethod&#x27;, &#x27;Internetservice&#x27;,\n",
              "                                  &#x27;Streamingtv&#x27;, &#x27;Onlinebackup&#x27;])])</pre></div></div></div><div class=\"sk-parallel\"><div class=\"sk-parallel-item\"><div class=\"sk-item\"><div class=\"sk-label-container\"><div class=\"sk-label sk-toggleable\"><input class=\"sk-toggleable__control sk-hidden--visually\" id=\"sk-estimator-id-8\" type=\"checkbox\" ><label for=\"sk-estimator-id-8\" class=\"sk-toggleable__label sk-toggleable__label-arrow\">numeric</label><div class=\"sk-toggleable__content\"><pre>[&#x27;Seniorcitizen&#x27;, &#x27;Charges_total&#x27;, &#x27;Tenure&#x27;, &#x27;Charges_monthly&#x27;, &#x27;TotalServices&#x27;]</pre></div></div></div><div class=\"sk-serial\"><div class=\"sk-item\"><div class=\"sk-serial\"><div class=\"sk-item\"><div class=\"sk-estimator sk-toggleable\"><input class=\"sk-toggleable__control sk-hidden--visually\" id=\"sk-estimator-id-9\" type=\"checkbox\" ><label for=\"sk-estimator-id-9\" class=\"sk-toggleable__label sk-toggleable__label-arrow\">StandardScaler</label><div class=\"sk-toggleable__content\"><pre>StandardScaler()</pre></div></div></div></div></div></div></div></div><div class=\"sk-parallel-item\"><div class=\"sk-item\"><div class=\"sk-label-container\"><div class=\"sk-label sk-toggleable\"><input class=\"sk-toggleable__control sk-hidden--visually\" id=\"sk-estimator-id-10\" type=\"checkbox\" ><label for=\"sk-estimator-id-10\" class=\"sk-toggleable__label sk-toggleable__label-arrow\">categoric</label><div class=\"sk-toggleable__content\"><pre>[&#x27;Deviceprotection&#x27;, &#x27;Onlinesecurity&#x27;, &#x27;Multiplelines&#x27;, &#x27;Phoneservice&#x27;, &#x27;Gender&#x27;, &#x27;Techsupport&#x27;, &#x27;Streamingmovies&#x27;, &#x27;Contract&#x27;, &#x27;Partner&#x27;, &#x27;Paperlessbilling&#x27;, &#x27;Dependents&#x27;, &#x27;Paymentmethod&#x27;, &#x27;Internetservice&#x27;, &#x27;Streamingtv&#x27;, &#x27;Onlinebackup&#x27;]</pre></div></div></div><div class=\"sk-serial\"><div class=\"sk-item\"><div class=\"sk-serial\"><div class=\"sk-item\"><div class=\"sk-estimator sk-toggleable\"><input class=\"sk-toggleable__control sk-hidden--visually\" id=\"sk-estimator-id-11\" type=\"checkbox\" ><label for=\"sk-estimator-id-11\" class=\"sk-toggleable__label sk-toggleable__label-arrow\">CatBoostEncoder</label><div class=\"sk-toggleable__content\"><pre>CatBoostEncoder()</pre></div></div></div></div></div></div></div></div></div></div><div class=\"sk-item\"><div class=\"sk-estimator sk-toggleable\"><input class=\"sk-toggleable__control sk-hidden--visually\" id=\"sk-estimator-id-12\" type=\"checkbox\" ><label for=\"sk-estimator-id-12\" class=\"sk-toggleable__label sk-toggleable__label-arrow\">GradientBoostingClassifier</label><div class=\"sk-toggleable__content\"><pre>GradientBoostingClassifier(random_state=42)</pre></div></div></div></div></div></div></div>"
            ],
            "text/plain": [
              "Pipeline(steps=[('preprocessor',\n",
              "                 ColumnTransformer(transformers=[('numeric',\n",
              "                                                  Pipeline(steps=[('std_scaler',\n",
              "                                                                   StandardScaler())]),\n",
              "                                                  ['Seniorcitizen',\n",
              "                                                   'Charges_total', 'Tenure',\n",
              "                                                   'Charges_monthly',\n",
              "                                                   'TotalServices']),\n",
              "                                                 ('categoric',\n",
              "                                                  Pipeline(steps=[('encoder',\n",
              "                                                                   CatBoostEncoder())]),\n",
              "                                                  ['Deviceprotection',\n",
              "                                                   'Onlinesecurity',\n",
              "                                                   'Multiplelines',\n",
              "                                                   'Phoneservice', 'Gender',\n",
              "                                                   'Techsupport',\n",
              "                                                   'Streamingmovies',\n",
              "                                                   'Contract', 'Partner',\n",
              "                                                   'Paperlessbilling',\n",
              "                                                   'Dependents',\n",
              "                                                   'Paymentmethod',\n",
              "                                                   'Internetservice',\n",
              "                                                   'Streamingtv',\n",
              "                                                   'Onlinebackup'])])),\n",
              "                ('model', GradientBoostingClassifier(random_state=42))])"
            ]
          },
          "execution_count": 8,
          "metadata": {},
          "output_type": "execute_result"
        }
      ],
      "source": [
        "from sklearn.linear_model import LogisticRegression\n",
        "from imblearn.pipeline import Pipeline as PipelineIMB\n",
        "from sklearn.ensemble import RandomForestClassifier, GradientBoostingClassifier\n",
        "\n",
        "# Oversampling {'model__max_depth': 10, 'model__n_estimators': 150}\n",
        "random_forest = RandomForestClassifier(max_depth = 10, n_estimators = 150, random_state = n)\n",
        "pipe_over = PipelineIMB([('preprocessor', preprocessor), ('resampler', SMOTE()), ('model', random_forest)])\n",
        "pipe_over.fit(X_train, y_train)\n",
        "\n",
        "# Undersampling {'model__C': 10, 'model__max_iter': 1000, 'model__penalty': 'l1', 'model__solver': 'liblinear'}\n",
        "logistic_regression = LogisticRegression(C = 10, max_iter = 1000, penalty = 'l1', solver = 'liblinear', random_state = n)\n",
        "pipe_under = PipelineIMB([('preprocessor', preprocessor), ('resampler', TomekLinks()), ('model', logistic_regression)])\n",
        "pipe_under.fit(X_train, y_train)\n",
        "\n",
        "# Default {'model__learning_rate': 0.1, 'model__max_depth': 3, 'model__n_estimators': 100}\n",
        "gradient_boosting = GradientBoostingClassifier(learning_rate = 0.1, max_depth = 3, n_estimators = 100, random_state = n)\n",
        "pipe_def = PipelineIMB([('preprocessor', preprocessor), ('model', gradient_boosting)])\n",
        "pipe_def.fit(X_train, y_train)"
      ]
    },
    {
      "cell_type": "markdown",
      "metadata": {
        "id": "wEbt9vXZ84Fm"
      },
      "source": [
        "<div style=\"background-color: #171821; color: white; padding: 10px; text-align: center; font-size: 20px;\">\n",
        "    <h1>Avaliação dos modelos</h1>\n",
        "</div>"
      ]
    },
    {
      "cell_type": "markdown",
      "metadata": {
        "id": "nX2AMKY874CD"
      },
      "source": [
        "## Previsões dos Modelos"
      ]
    },
    {
      "cell_type": "code",
      "execution_count": 9,
      "metadata": {
        "id": "fYOtcFJW7_AZ"
      },
      "outputs": [],
      "source": [
        "rf_predictions = pipe_over.predict(X_test)\n",
        "lr_predictions = pipe_under.predict(X_test)\n",
        "gb_predictions = pipe_def.predict(X_test)"
      ]
    },
    {
      "cell_type": "markdown",
      "metadata": {
        "id": "IuqMpOXf9CRz"
      },
      "source": [
        "## Comparação dos valores reais com os valores previstos"
      ]
    },
    {
      "cell_type": "code",
      "execution_count": 10,
      "metadata": {
        "colab": {
          "base_uri": "https://localhost:8080/"
        },
        "id": "2rEcprzK8sAb",
        "outputId": "0d626773-71af-4d39-decd-2beddeebb5e1"
      },
      "outputs": [
        {
          "name": "stdout",
          "output_type": "stream",
          "text": [
            "Relatório de Classificação para Random Florest (Oversampling):\n",
            "              precision    recall  f1-score   support\n",
            "\n",
            "           0       0.88      0.83      0.85      1035\n",
            "           1       0.59      0.69      0.64       374\n",
            "\n",
            "    accuracy                           0.79      1409\n",
            "   macro avg       0.73      0.76      0.74      1409\n",
            "weighted avg       0.80      0.79      0.79      1409\n",
            "\n"
          ]
        }
      ],
      "source": [
        "from sklearn.metrics import classification_report\n",
        "\n",
        "rf_report = classification_report(y_test, rf_predictions)\n",
        "print(\"Relatório de Classificação para Random Florest (Oversampling):\")\n",
        "print(rf_report)"
      ]
    },
    {
      "cell_type": "markdown",
      "metadata": {},
      "source": [
        "1. **Precisão (Precision)**: A precisão é a proporção de verdadeiros positivos (churn previstos corretamente) em relação a todos os exemplos previstos como positivos (churn). No caso dos clientes propensos ao churn (classe 1), a precisão é de 0,59. Isso significa que, dos clientes previstos como propensos ao churn, apenas 57% deles realmente abandonaram o serviço.\n",
        "\n",
        "2. **Revocação (Recall)**: A revocação é a proporção de verdadeiros positivos em relação a todos os exemplos reais de churn (classe 1). A revocação para a classe 1 é de 0,69. Isso significa que o modelo conseguiu capturar 69% dos clientes que realmente abandonaram o serviço.\n",
        "\n",
        "3. **F1-Score**: O F1-Score é a média harmônica entre precisão e revocação. É uma métrica que equilibra a precisão e a revocação. O F1-Score para a classe 1 é de 0,64.\n",
        "\n",
        "4. **Acurácia (Accuracy)**: A acurácia mede a proporção de previsões corretas em relação a todas as previsões. A acurácia geral do modelo é de 0,79, o que significa que 79% das previsões do modelo estão corretas.\n",
        "\n",
        "No geral, o modelo parece ter um desempenho razoável, especialmente na previsão dos clientes propensos ao churn (classe 1)."
      ]
    },
    {
      "cell_type": "code",
      "execution_count": 11,
      "metadata": {},
      "outputs": [
        {
          "name": "stdout",
          "output_type": "stream",
          "text": [
            "\n",
            "Relatório de Classificação para Logistic Regression (Undersampling):\n",
            "              precision    recall  f1-score   support\n",
            "\n",
            "           0       0.86      0.85      0.86      1035\n",
            "           1       0.60      0.61      0.61       374\n",
            "\n",
            "    accuracy                           0.79      1409\n",
            "   macro avg       0.73      0.73      0.73      1409\n",
            "weighted avg       0.79      0.79      0.79      1409\n",
            "\n"
          ]
        }
      ],
      "source": [
        "lr_report = classification_report(y_test, lr_predictions)\n",
        "print(\"\\nRelatório de Classificação para Logistic Regression (Undersampling):\")\n",
        "print(lr_report)"
      ]
    },
    {
      "cell_type": "markdown",
      "metadata": {},
      "source": [
        "1. **Precisão (Precision)**: A precisão para a classe 1 é de 0,61. Isso significa que, dos clientes previstos como propensos ao churn, 61% deles realmente abandonaram o serviço.\n",
        "\n",
        "2. **Revocação (Recall)**: A revocação para a classe 1 é de 0,61. Isso indica que o modelo conseguiu capturar 61% dos clientes que realmente abandonaram o serviço.\n",
        "\n",
        "3. **F1-Score**: O F1-Score para a classe 1 é de 0,61. É uma métrica que equilibra a precisão e a revocação.\n",
        "\n",
        "4. **Acurácia (Accuracy)**: A acurácia geral do modelo é de 0,79, o que significa que 79% das previsões do modelo estão corretas.\n",
        "\n",
        "Comparando este modelo de Regressão Logística com o modelo anterior de Random Forest (com oversampling), ambos têm uma acurácia semelhante. No entanto, a Regressão Logística tem uma precisão e revocação ligeiramente melhores para a classe 1, enquanto o Random Forest tinha uma precisão ligeiramente melhor, mas uma revocação um pouco pior para a mesma classe. O F1-Score é semelhante em ambos os modelos."
      ]
    },
    {
      "cell_type": "code",
      "execution_count": 12,
      "metadata": {},
      "outputs": [
        {
          "name": "stdout",
          "output_type": "stream",
          "text": [
            "\n",
            "Relatório de Classificação para Gradient Boosting (Default sampling):\n",
            "              precision    recall  f1-score   support\n",
            "\n",
            "           0       0.84      0.89      0.87      1035\n",
            "           1       0.65      0.54      0.59       374\n",
            "\n",
            "    accuracy                           0.80      1409\n",
            "   macro avg       0.75      0.72      0.73      1409\n",
            "weighted avg       0.79      0.80      0.79      1409\n",
            "\n"
          ]
        }
      ],
      "source": [
        "gb_report = classification_report(y_test, gb_predictions)\n",
        "print(\"\\nRelatório de Classificação para Gradient Boosting (Default sampling):\")\n",
        "print(gb_report)"
      ]
    },
    {
      "cell_type": "markdown",
      "metadata": {
        "id": "HfV1k_R7-C3K"
      },
      "source": [
        "1. **Precisão (Precision)**: A precisão para a classe 1 é de 0,65. Isso significa que, dos clientes previstos como propensos ao churn, 65% deles realmente abandonaram o serviço.\n",
        "\n",
        "2. **Revocação (Recall)**: A revocação para a classe 1 é de 0,54. Isso indica que o modelo conseguiu capturar apenas 54% dos clientes que realmente abandonaram o serviço.\n",
        "\n",
        "3. **F1-Score**: O F1-Score para a classe 1 é de 0,59. Como nas análises anteriores, o F1-Score é uma métrica que equilibra precisão e revocação.\n",
        "\n",
        "4. **Acurácia (Accuracy)**: A acurácia geral do modelo é de 0,80, o que significa que 80% das previsões do modelo estão corretas.\n",
        "\n",
        "Comparando este modelo de Gradient Boosting com os modelos anteriores (Regressão Logística e Random Forest), observamos que o Gradient Boosting tem uma acurácia ligeiramente maior. No entanto, a precisão para a classe 1 é menor do que a da Regressão Logística e a revocação é menor do que a do Random Forest. O F1-Score também é um pouco mais baixo em comparação com os outros dois modelos."
      ]
    },
    {
      "cell_type": "markdown",
      "metadata": {},
      "source": [
        "### \"Melhor modelo\" de acordo com a problemática"
      ]
    },
    {
      "cell_type": "markdown",
      "metadata": {},
      "source": [
        "Embora a precisão do modelo seja uma métrica comumente usada para avaliar o desempenho de modelos de ML, acreditamos que não deve ser o único fator decisivo para selecionar o modelo mais adequado para prever o churn de clientes. Devido à natureza do setor de telecomunicações, onde o custo de atrair novos clientes supera o custo de manter os existentes, o recall, que representa a capacidade do modelo de identificar com precisão os casos positivos (clientes propensos ao churn), torna-se uma métrica crítica. Além disso, o f1-score, que equilibra precisão e recall, pode oferecer uma visão mais completa do desempenho.\n",
        "\n",
        "Considerando os resultados apresentados anteriormente, é evidente que o modelo Random Forest, utilizando a abordagem de oversampling, se destaca em relação ao recall médio ponderado (macro avg recall) entre os três modelos avaliados. Este modelo demonstrou a capacidade de prever com maior precisão os casos reais de ocorrência de churn, resultando na menor taxa de falsos negativos. Portanto, com base em nossa estratégia de retenção de clientes, onde minimizar os falsos negativos é fundamental para evitar a perda de clientes, consideramos o modelo Random Forest com oversampling como a escolha mais adequada para prever a probabilidade de um cliente churn."
      ]
    },
    {
      "cell_type": "markdown",
      "metadata": {
        "id": "5faRlpewBRI_"
      },
      "source": [
        "## Visualizando a matriz de confusão para o Random Forest"
      ]
    },
    {
      "cell_type": "code",
      "execution_count": 14,
      "metadata": {
        "colab": {
          "base_uri": "https://localhost:8080/",
          "height": 524
        },
        "id": "T4jVf5MfDckC",
        "outputId": "f9d98269-5e4d-4e51-a58b-243f9e1fdbbb"
      },
      "outputs": [
        {
          "data": {
            "image/png": "[encoded data removed]",
            "text/plain": [
              "<Figure size 640x480 with 2 Axes>"
            ]
          },
          "metadata": {},
          "output_type": "display_data"
        }
      ],
      "source": [
        "import matplotlib.pyplot as plt\n",
        "from sklearn.metrics import confusion_matrix, ConfusionMatrixDisplay\n",
        "\n",
        "cm = confusion_matrix(y_test, rf_predictions, labels=pipe_over.classes_)\n",
        "disp = ConfusionMatrixDisplay(confusion_matrix=cm, display_labels = pipe_over.classes_)\n",
        "disp = disp.plot(cmap = plt.cm.BuPu)\n",
        "plt.grid(False);"
      ]
    },
    {
      "cell_type": "markdown",
      "metadata": {},
      "source": [
        "- Verdadeiros Positivos (True Positives - TP): 258 casos\n",
        "- Verdadeiros Negativos (True Negatives - TN): 855 casos\n",
        "- Falsos Positivos (False Positives - FP): 180 casos\n",
        "- Falsos Negativos (False Negatives - FN): 116 casos"
      ]
    },
    {
      "cell_type": "markdown",
      "metadata": {},
      "source": [
        "## Visualizando ROC e AUC para o Modelo Random Florest"
      ]
    },
    {
      "cell_type": "code",
      "execution_count": 34,
      "metadata": {},
      "outputs": [
        {
          "data": {
            "image/png": "[encoded data removed]",
            "text/plain": [
              "<Figure size 800x600 with 1 Axes>"
            ]
          },
          "metadata": {},
          "output_type": "display_data"
        }
      ],
      "source": [
        "from sklearn.metrics import roc_curve, RocCurveDisplay, roc_auc_score\n",
        "\n",
        "y_pred_prob = pipe_over.predict_proba(X_test)[:, 1]\n",
        "fpr, tpr, thresholds = roc_curve(y_test, y_pred_prob, pos_label = 1)\n",
        "auc_score = roc_auc_score(y_test, y_pred_prob)\n",
        "\n",
        "plt.figure(figsize=(8, 6))\n",
        "plt.plot(fpr, tpr, label=f'Random Florest (AUC = {auc_score:.2f})')\n",
        "plt.plot([0, 1], [0, 1], 'k--')\n",
        "\n",
        "plt.xlabel('False Positive Rate')\n",
        "plt.ylabel('True Positive Rate')\n",
        "plt.title('Receiver Operating Characteristic (ROC) Curve')\n",
        "plt.legend(loc='lower right')\n",
        "plt.show()"
      ]
    },
    {
      "cell_type": "markdown",
      "metadata": {},
      "source": [
        "Veja que o modelo de Random Florest com uma área sob a curva (AUC) de 0,84 indica que ele possui um poder discriminatório satisfatório na distinção entre as classes no conjunto de test."
      ]
    },
    {
      "cell_type": "markdown",
      "metadata": {
        "id": "lwDiqYRrIdkS"
      },
      "source": [
        "## Model Explainer (SHAP): Feature Importance e Waterfall "
      ]
    },
    {
      "cell_type": "markdown",
      "metadata": {},
      "source": [
        "### Feature Importance"
      ]
    },
    {
      "cell_type": "code",
      "execution_count": 51,
      "metadata": {
        "id": "Tuz-sVO8JIPe"
      },
      "outputs": [],
      "source": [
        "import shap\n",
        "\n",
        "explainer = shap.TreeExplainer(pipe_over['model'])\n",
        "observations = pipe_over['preprocessor'].transform(X_test)\n",
        "shap_values = explainer.shap_values(observations)"
      ]
    },
    {
      "cell_type": "code",
      "execution_count": 52,
      "metadata": {},
      "outputs": [
        {
          "data": {
            "image/png": "[encoded data removed]",
            "text/plain": [
              "<Figure size 800x950 with 1 Axes>"
            ]
          },
          "metadata": {},
          "output_type": "display_data"
        }
      ],
      "source": [
        "shap.summary_plot(shap_values, X_test, plot_type='bar')"
      ]
    },
    {
      "cell_type": "markdown",
      "metadata": {
        "id": "99gEZ-ARSB1G"
      },
      "source": [
        "<div style=\"background-color: #171821; color: white; padding: 10px; text-align: center; font-size: 20px;\">\n",
        "    <h1>Salvando o melhor modelo: CatBoost</h1>\n",
        "</div>"
      ]
    },
    {
      "cell_type": "code",
      "execution_count": null,
      "metadata": {
        "colab": {
          "base_uri": "https://localhost:8080/"
        },
        "id": "MYwQh3WRR-TU",
        "outputId": "3faf3f83-996b-4a7a-ff56-f5014e6aaf9c"
      },
      "outputs": [
        {
          "data": {
            "text/plain": [
              "['/content/drive/MyDrive/Github/AluraDataChallenge_2/modelo_catboost.pkl']"
            ]
          },
          "execution_count": 35,
          "metadata": {},
          "output_type": "execute_result"
        }
      ],
      "source": [
        "import joblib\n",
        "\n",
        "best_model = DIRETORIO_BASE + 'modelo_catboost.pkl'\n",
        "joblib.dump(catboost, best_model)"
      ]
    }
  ],
  "metadata": {
    "colab": {
      "authorship_tag": "ABX9TyOaaW9GM6+rqkJ06+yM685V",
      "include_colab_link": true,
      "provenance": []
    },
    "kernelspec": {
      "display_name": "Python 3",
      "name": "python3"
    },
    "language_info": {
      "codemirror_mode": {
        "name": "ipython",
        "version": 3
      },
      "file_extension": ".py",
      "mimetype": "text/x-python",
      "name": "python",
      "nbconvert_exporter": "python",
      "pygments_lexer": "ipython3",
      "version": "3.11.5"
    }
  },
  "nbformat": 4,
  "nbformat_minor": 0
}
