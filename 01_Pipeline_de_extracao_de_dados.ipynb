{
  "nbformat": 4,
  "nbformat_minor": 0,
  "metadata": {
    "colab": {
      "provenance": [],
      "include_colab_link": true
    },
    "kernelspec": {
      "name": "python3",
      "display_name": "Python 3"
    },
    "language_info": {
      "name": "python"
    }
  },
  "cells": [
    {
      "cell_type": "markdown",
      "metadata": {
        "id": "view-in-github",
        "colab_type": "text"
      },
      "source": [
        "<a href=\"https://colab.research.google.com/github/SarahBarbosa/AluraDataChallenge_2/blob/main/01_Pipeline_de_extracao_de_dados.ipynb\" target=\"_parent\"><img src=\"https://colab.research.google.com/assets/colab-badge.svg\" alt=\"Open In Colab\"/></a>"
      ]
    },
    {
      "cell_type": "markdown",
      "source": [
        "# Pipeline de extração de dados\n"
      ],
      "metadata": {
        "id": "VlafAXK1Ihb0"
      }
    },
    {
      "cell_type": "markdown",
      "source": [
        "## Importação das bibliotecas"
      ],
      "metadata": {
        "id": "7yylVP6nDScy"
      }
    },
    {
      "cell_type": "code",
      "source": [
        "%%capture\n",
        "try:\n",
        "    import py7zr\n",
        "    from ftplib import FTP\n",
        "except ModuleNotFoundError:\n",
        "    !pip install py7zr\n",
        "    !pip install fastparquet\n",
        "    import py7zr\n",
        "    from ftplib import FTP\n",
        "\n",
        "import os\n",
        "import numpy as np\n",
        "import pandas as pd\n",
        "\n",
        "import sys\n",
        "sys.path.append('/content/drive/MyDrive/Projeto - RAIS')\n",
        "\n",
        "from google.colab import drive\n",
        "drive.mount('/content/drive')"
      ],
      "metadata": {
        "id": "QaZlTZ9Cmhgg"
      },
      "execution_count": null,
      "outputs": []
    },
    {
      "cell_type": "markdown",
      "source": [
        "## Conexão e download dos arquivos compactados"
      ],
      "metadata": {
        "id": "NJQFu_3-ACuY"
      }
    },
    {
      "cell_type": "code",
      "source": [
        "from download_arquivos_rais import download_arquivos"
      ],
      "metadata": {
        "id": "0lRqC08TJ8xz"
      },
      "execution_count": null,
      "outputs": []
    },
    {
      "cell_type": "code",
      "source": [
        "base = '/content/drive/MyDrive/Projeto - RAIS/base/'\n",
        "\n",
        "lista_de_estados = ['RAIS_VINC_PUB_CENTRO_OESTE',\n",
        "                    'RAIS_VINC_PUB_MG_ES_RJ',\n",
        "                    'RAIS_VINC_PUB_NORDESTE',\n",
        "                    'RAIS_VINC_PUB_NORTE',\n",
        "                    'RAIS_VINC_PUB_SP',\n",
        "                    'RAIS_VINC_PUB_SUL']\n",
        "\n",
        "ftp = FTP('ftp.mtps.gov.br')\n",
        "download_arquivos(2020, base, ftp, lista_de_estados)"
      ],
      "metadata": {
        "colab": {
          "base_uri": "https://localhost:8080/"
        },
        "id": "lP0fdN6vKBN6",
        "outputId": "d4ce495f-9a14-4410-a23a-46bb24b10bd5"
      },
      "execution_count": null,
      "outputs": [
        {
          "output_type": "stream",
          "name": "stdout",
          "text": [
            "Download concluído (1 / 6): RAIS_VINC_PUB_CENTRO_OESTE.7z\n",
            "Download concluído (2 / 6): RAIS_VINC_PUB_MG_ES_RJ.7z\n",
            "Download concluído (3 / 6): RAIS_VINC_PUB_NORDESTE.7z\n",
            "Download concluído (4 / 6): RAIS_VINC_PUB_NORTE.7z\n",
            "Download concluído (5 / 6): RAIS_VINC_PUB_SP.7z\n",
            "Download concluído (6 / 6): RAIS_VINC_PUB_SUL.7z\n",
            "## Todos os downloads foram concluídos com sucesso.\n"
          ]
        }
      ]
    },
    {
      "cell_type": "code",
      "source": [
        "ftp = FTP('ftp.mtps.gov.br')\n",
        "download_arquivos(2021, base, ftp, lista_de_estados)"
      ],
      "metadata": {
        "colab": {
          "base_uri": "https://localhost:8080/"
        },
        "id": "qJhR04aFNiPs",
        "outputId": "6cb60314-ee6d-45dd-f037-0ad6b93a98ce"
      },
      "execution_count": null,
      "outputs": [
        {
          "output_type": "stream",
          "name": "stdout",
          "text": [
            "Download concluído (1 / 6): RAIS_VINC_PUB_CENTRO_OESTE.7z\n",
            "Download concluído (2 / 6): RAIS_VINC_PUB_MG_ES_RJ.7z\n",
            "Download concluído (3 / 6): RAIS_VINC_PUB_NORDESTE.7z\n",
            "Download concluído (4 / 6): RAIS_VINC_PUB_NORTE.7z\n",
            "Download concluído (5 / 6): RAIS_VINC_PUB_SP.7z\n",
            "Download concluído (6 / 6): RAIS_VINC_PUB_SUL.7z\n",
            "## Todos os downloads foram concluídos com sucesso.\n"
          ]
        }
      ]
    },
    {
      "cell_type": "markdown",
      "source": [
        "## Visualizando o layout dos dados\n",
        "\n",
        "Infelizmente, ao tentarmos acessar a pasta \"vínculos\" em `Layout` para visualizar a organização dos dados (nomes das colunas e suas descrições), nos deparamos com um erro. Detectamos um problema relacionado aos caracteres no formato UTF-8. Para superar essa dificuldade, optamos por acessar diretamente esse diretório e baixar o arquivo de lá. A partir desse momento, conseguimos visualizar tanto os nomes quanto as descrições das variáveis em nosso conjunto de dados:"
      ],
      "metadata": {
        "id": "E9FOi0WyDUy-"
      }
    },
    {
      "cell_type": "code",
      "source": [
        "layout_variaveis = pd.read_csv('/content/drive/MyDrive/Projeto - RAIS/layout.csv')\n",
        "layout_variaveis.head()"
      ],
      "metadata": {
        "colab": {
          "base_uri": "https://localhost:8080/",
          "height": 206
        },
        "id": "tSWzTC8IQ4o6",
        "outputId": "8101b0c6-c01e-4af9-f7e4-d110ecd3ddad"
      },
      "execution_count": null,
      "outputs": [
        {
          "output_type": "execute_result",
          "data": {
            "text/plain": [
              "           Nome                              Descricao da Variável  \\\n",
              "0     BAIRRO_SP                  Bairros do Municipio de São Paulo   \n",
              "1   BAIRRO FORT                  Bairros do município de Fortaleza   \n",
              "2     BAIRRO_RJ             Bairros do município do Rio de Janeiro   \n",
              "3  CAUS AFAST 1  Causa do primeiro afastamento do empregado/ser...   \n",
              "4           NaN                                                NaN   \n",
              "\n",
              "                                          Categorias Valor na Fonte  \n",
              "0  (ver planilha correspondente contida neste arq...            NaN  \n",
              "1  (ver planilha correspondente contida neste arq...            NaN  \n",
              "2  (ver planilha correspondente contida neste arq...            NaN  \n",
              "3                                        ACI TRB TIP             10  \n",
              "4                                        ACI TRB TJT             20  "
            ],
            "text/html": [
              "\n",
              "  <div id=\"df-9984d06c-d7f1-48e8-a1dd-6fb34c02a294\" class=\"colab-df-container\">\n",
              "    <div>\n",
              "<style scoped>\n",
              "    .dataframe tbody tr th:only-of-type {\n",
              "        vertical-align: middle;\n",
              "    }\n",
              "\n",
              "    .dataframe tbody tr th {\n",
              "        vertical-align: top;\n",
              "    }\n",
              "\n",
              "    .dataframe thead th {\n",
              "        text-align: right;\n",
              "    }\n",
              "</style>\n",
              "<table border=\"1\" class=\"dataframe\">\n",
              "  <thead>\n",
              "    <tr style=\"text-align: right;\">\n",
              "      <th></th>\n",
              "      <th>Nome</th>\n",
              "      <th>Descricao da Variável</th>\n",
              "      <th>Categorias</th>\n",
              "      <th>Valor na Fonte</th>\n",
              "    </tr>\n",
              "  </thead>\n",
              "  <tbody>\n",
              "    <tr>\n",
              "      <th>0</th>\n",
              "      <td>BAIRRO_SP</td>\n",
              "      <td>Bairros do Municipio de São Paulo</td>\n",
              "      <td>(ver planilha correspondente contida neste arq...</td>\n",
              "      <td>NaN</td>\n",
              "    </tr>\n",
              "    <tr>\n",
              "      <th>1</th>\n",
              "      <td>BAIRRO FORT</td>\n",
              "      <td>Bairros do município de Fortaleza</td>\n",
              "      <td>(ver planilha correspondente contida neste arq...</td>\n",
              "      <td>NaN</td>\n",
              "    </tr>\n",
              "    <tr>\n",
              "      <th>2</th>\n",
              "      <td>BAIRRO_RJ</td>\n",
              "      <td>Bairros do município do Rio de Janeiro</td>\n",
              "      <td>(ver planilha correspondente contida neste arq...</td>\n",
              "      <td>NaN</td>\n",
              "    </tr>\n",
              "    <tr>\n",
              "      <th>3</th>\n",
              "      <td>CAUS AFAST 1</td>\n",
              "      <td>Causa do primeiro afastamento do empregado/ser...</td>\n",
              "      <td>ACI TRB TIP</td>\n",
              "      <td>10</td>\n",
              "    </tr>\n",
              "    <tr>\n",
              "      <th>4</th>\n",
              "      <td>NaN</td>\n",
              "      <td>NaN</td>\n",
              "      <td>ACI TRB TJT</td>\n",
              "      <td>20</td>\n",
              "    </tr>\n",
              "  </tbody>\n",
              "</table>\n",
              "</div>\n",
              "    <div class=\"colab-df-buttons\">\n",
              "\n",
              "  <div class=\"colab-df-container\">\n",
              "    <button class=\"colab-df-convert\" onclick=\"convertToInteractive('df-9984d06c-d7f1-48e8-a1dd-6fb34c02a294')\"\n",
              "            title=\"Convert this dataframe to an interactive table.\"\n",
              "            style=\"display:none;\">\n",
              "\n",
              "  <svg xmlns=\"http://www.w3.org/2000/svg\" height=\"24px\" viewBox=\"0 -960 960 960\">\n",
              "    <path d=\"M120-120v-720h720v720H120Zm60-500h600v-160H180v160Zm220 220h160v-160H400v160Zm0 220h160v-160H400v160ZM180-400h160v-160H180v160Zm440 0h160v-160H620v160ZM180-180h160v-160H180v160Zm440 0h160v-160H620v160Z\"/>\n",
              "  </svg>\n",
              "    </button>\n",
              "\n",
              "  <style>\n",
              "    .colab-df-container {\n",
              "      display:flex;\n",
              "      gap: 12px;\n",
              "    }\n",
              "\n",
              "    .colab-df-convert {\n",
              "      background-color: #E8F0FE;\n",
              "      border: none;\n",
              "      border-radius: 50%;\n",
              "      cursor: pointer;\n",
              "      display: none;\n",
              "      fill: #1967D2;\n",
              "      height: 32px;\n",
              "      padding: 0 0 0 0;\n",
              "      width: 32px;\n",
              "    }\n",
              "\n",
              "    .colab-df-convert:hover {\n",
              "      background-color: #E2EBFA;\n",
              "      box-shadow: 0px 1px 2px rgba(60, 64, 67, 0.3), 0px 1px 3px 1px rgba(60, 64, 67, 0.15);\n",
              "      fill: #174EA6;\n",
              "    }\n",
              "\n",
              "    .colab-df-buttons div {\n",
              "      margin-bottom: 4px;\n",
              "    }\n",
              "\n",
              "    [theme=dark] .colab-df-convert {\n",
              "      background-color: #3B4455;\n",
              "      fill: #D2E3FC;\n",
              "    }\n",
              "\n",
              "    [theme=dark] .colab-df-convert:hover {\n",
              "      background-color: #434B5C;\n",
              "      box-shadow: 0px 1px 3px 1px rgba(0, 0, 0, 0.15);\n",
              "      filter: drop-shadow(0px 1px 2px rgba(0, 0, 0, 0.3));\n",
              "      fill: #FFFFFF;\n",
              "    }\n",
              "  </style>\n",
              "\n",
              "    <script>\n",
              "      const buttonEl =\n",
              "        document.querySelector('#df-9984d06c-d7f1-48e8-a1dd-6fb34c02a294 button.colab-df-convert');\n",
              "      buttonEl.style.display =\n",
              "        google.colab.kernel.accessAllowed ? 'block' : 'none';\n",
              "\n",
              "      async function convertToInteractive(key) {\n",
              "        const element = document.querySelector('#df-9984d06c-d7f1-48e8-a1dd-6fb34c02a294');\n",
              "        const dataTable =\n",
              "          await google.colab.kernel.invokeFunction('convertToInteractive',\n",
              "                                                    [key], {});\n",
              "        if (!dataTable) return;\n",
              "\n",
              "        const docLinkHtml = 'Like what you see? Visit the ' +\n",
              "          '<a target=\"_blank\" href=https://colab.research.google.com/notebooks/data_table.ipynb>data table notebook</a>'\n",
              "          + ' to learn more about interactive tables.';\n",
              "        element.innerHTML = '';\n",
              "        dataTable['output_type'] = 'display_data';\n",
              "        await google.colab.output.renderOutput(dataTable, element);\n",
              "        const docLink = document.createElement('div');\n",
              "        docLink.innerHTML = docLinkHtml;\n",
              "        element.appendChild(docLink);\n",
              "      }\n",
              "    </script>\n",
              "  </div>\n",
              "\n",
              "\n",
              "<div id=\"df-ff0edb27-aab1-4b74-86fe-a7871d510166\">\n",
              "  <button class=\"colab-df-quickchart\" onclick=\"quickchart('df-ff0edb27-aab1-4b74-86fe-a7871d510166')\"\n",
              "            title=\"Suggest charts.\"\n",
              "            style=\"display:none;\">\n",
              "\n",
              "<svg xmlns=\"http://www.w3.org/2000/svg\" height=\"24px\"viewBox=\"0 0 24 24\"\n",
              "     width=\"24px\">\n",
              "    <g>\n",
              "        <path d=\"M19 3H5c-1.1 0-2 .9-2 2v14c0 1.1.9 2 2 2h14c1.1 0 2-.9 2-2V5c0-1.1-.9-2-2-2zM9 17H7v-7h2v7zm4 0h-2V7h2v10zm4 0h-2v-4h2v4z\"/>\n",
              "    </g>\n",
              "</svg>\n",
              "  </button>\n",
              "\n",
              "<style>\n",
              "  .colab-df-quickchart {\n",
              "      --bg-color: #E8F0FE;\n",
              "      --fill-color: #1967D2;\n",
              "      --hover-bg-color: #E2EBFA;\n",
              "      --hover-fill-color: #174EA6;\n",
              "      --disabled-fill-color: #AAA;\n",
              "      --disabled-bg-color: #DDD;\n",
              "  }\n",
              "\n",
              "  [theme=dark] .colab-df-quickchart {\n",
              "      --bg-color: #3B4455;\n",
              "      --fill-color: #D2E3FC;\n",
              "      --hover-bg-color: #434B5C;\n",
              "      --hover-fill-color: #FFFFFF;\n",
              "      --disabled-bg-color: #3B4455;\n",
              "      --disabled-fill-color: #666;\n",
              "  }\n",
              "\n",
              "  .colab-df-quickchart {\n",
              "    background-color: var(--bg-color);\n",
              "    border: none;\n",
              "    border-radius: 50%;\n",
              "    cursor: pointer;\n",
              "    display: none;\n",
              "    fill: var(--fill-color);\n",
              "    height: 32px;\n",
              "    padding: 0;\n",
              "    width: 32px;\n",
              "  }\n",
              "\n",
              "  .colab-df-quickchart:hover {\n",
              "    background-color: var(--hover-bg-color);\n",
              "    box-shadow: 0 1px 2px rgba(60, 64, 67, 0.3), 0 1px 3px 1px rgba(60, 64, 67, 0.15);\n",
              "    fill: var(--button-hover-fill-color);\n",
              "  }\n",
              "\n",
              "  .colab-df-quickchart-complete:disabled,\n",
              "  .colab-df-quickchart-complete:disabled:hover {\n",
              "    background-color: var(--disabled-bg-color);\n",
              "    fill: var(--disabled-fill-color);\n",
              "    box-shadow: none;\n",
              "  }\n",
              "\n",
              "  .colab-df-spinner {\n",
              "    border: 2px solid var(--fill-color);\n",
              "    border-color: transparent;\n",
              "    border-bottom-color: var(--fill-color);\n",
              "    animation:\n",
              "      spin 1s steps(1) infinite;\n",
              "  }\n",
              "\n",
              "  @keyframes spin {\n",
              "    0% {\n",
              "      border-color: transparent;\n",
              "      border-bottom-color: var(--fill-color);\n",
              "      border-left-color: var(--fill-color);\n",
              "    }\n",
              "    20% {\n",
              "      border-color: transparent;\n",
              "      border-left-color: var(--fill-color);\n",
              "      border-top-color: var(--fill-color);\n",
              "    }\n",
              "    30% {\n",
              "      border-color: transparent;\n",
              "      border-left-color: var(--fill-color);\n",
              "      border-top-color: var(--fill-color);\n",
              "      border-right-color: var(--fill-color);\n",
              "    }\n",
              "    40% {\n",
              "      border-color: transparent;\n",
              "      border-right-color: var(--fill-color);\n",
              "      border-top-color: var(--fill-color);\n",
              "    }\n",
              "    60% {\n",
              "      border-color: transparent;\n",
              "      border-right-color: var(--fill-color);\n",
              "    }\n",
              "    80% {\n",
              "      border-color: transparent;\n",
              "      border-right-color: var(--fill-color);\n",
              "      border-bottom-color: var(--fill-color);\n",
              "    }\n",
              "    90% {\n",
              "      border-color: transparent;\n",
              "      border-bottom-color: var(--fill-color);\n",
              "    }\n",
              "  }\n",
              "</style>\n",
              "\n",
              "  <script>\n",
              "    async function quickchart(key) {\n",
              "      const quickchartButtonEl =\n",
              "        document.querySelector('#' + key + ' button');\n",
              "      quickchartButtonEl.disabled = true;  // To prevent multiple clicks.\n",
              "      quickchartButtonEl.classList.add('colab-df-spinner');\n",
              "      try {\n",
              "        const charts = await google.colab.kernel.invokeFunction(\n",
              "            'suggestCharts', [key], {});\n",
              "      } catch (error) {\n",
              "        console.error('Error during call to suggestCharts:', error);\n",
              "      }\n",
              "      quickchartButtonEl.classList.remove('colab-df-spinner');\n",
              "      quickchartButtonEl.classList.add('colab-df-quickchart-complete');\n",
              "    }\n",
              "    (() => {\n",
              "      let quickchartButtonEl =\n",
              "        document.querySelector('#df-ff0edb27-aab1-4b74-86fe-a7871d510166 button');\n",
              "      quickchartButtonEl.style.display =\n",
              "        google.colab.kernel.accessAllowed ? 'block' : 'none';\n",
              "    })();\n",
              "  </script>\n",
              "</div>\n",
              "    </div>\n",
              "  </div>\n"
            ]
          },
          "metadata": {},
          "execution_count": 5
        }
      ]
    },
    {
      "cell_type": "code",
      "source": [
        "layout_motivo_desligamento = pd.read_csv('/content/drive/MyDrive/Projeto - RAIS/layout_desligamento.csv')\n",
        "layout_motivo_desligamento.head()"
      ],
      "metadata": {
        "colab": {
          "base_uri": "https://localhost:8080/",
          "height": 206
        },
        "id": "3g5_yUYLVb4a",
        "outputId": "0bea0e7b-d1cf-4749-da1a-24fe64aac66f"
      },
      "execution_count": null,
      "outputs": [
        {
          "output_type": "execute_result",
          "data": {
            "text/plain": [
              "                        Valor do Motivo Desligamento\n",
              "0  10 - Rescisão com justa causa por iniciativa d...\n",
              "1  11 - Rescisão sem justa causa por iniciativa d...\n",
              "2              12 - Término do contrato de trabalho.\n",
              "3  20 - Rescisão com justa causa por iniciativa d...\n",
              "4  21 - Rescisão sem justa causa por iniciativa d..."
            ],
            "text/html": [
              "\n",
              "  <div id=\"df-f63eea66-7f0b-471a-851d-fa27eb2f49c2\" class=\"colab-df-container\">\n",
              "    <div>\n",
              "<style scoped>\n",
              "    .dataframe tbody tr th:only-of-type {\n",
              "        vertical-align: middle;\n",
              "    }\n",
              "\n",
              "    .dataframe tbody tr th {\n",
              "        vertical-align: top;\n",
              "    }\n",
              "\n",
              "    .dataframe thead th {\n",
              "        text-align: right;\n",
              "    }\n",
              "</style>\n",
              "<table border=\"1\" class=\"dataframe\">\n",
              "  <thead>\n",
              "    <tr style=\"text-align: right;\">\n",
              "      <th></th>\n",
              "      <th>Valor do Motivo Desligamento</th>\n",
              "    </tr>\n",
              "  </thead>\n",
              "  <tbody>\n",
              "    <tr>\n",
              "      <th>0</th>\n",
              "      <td>10 - Rescisão com justa causa por iniciativa d...</td>\n",
              "    </tr>\n",
              "    <tr>\n",
              "      <th>1</th>\n",
              "      <td>11 - Rescisão sem justa causa por iniciativa d...</td>\n",
              "    </tr>\n",
              "    <tr>\n",
              "      <th>2</th>\n",
              "      <td>12 - Término do contrato de trabalho.</td>\n",
              "    </tr>\n",
              "    <tr>\n",
              "      <th>3</th>\n",
              "      <td>20 - Rescisão com justa causa por iniciativa d...</td>\n",
              "    </tr>\n",
              "    <tr>\n",
              "      <th>4</th>\n",
              "      <td>21 - Rescisão sem justa causa por iniciativa d...</td>\n",
              "    </tr>\n",
              "  </tbody>\n",
              "</table>\n",
              "</div>\n",
              "    <div class=\"colab-df-buttons\">\n",
              "\n",
              "  <div class=\"colab-df-container\">\n",
              "    <button class=\"colab-df-convert\" onclick=\"convertToInteractive('df-f63eea66-7f0b-471a-851d-fa27eb2f49c2')\"\n",
              "            title=\"Convert this dataframe to an interactive table.\"\n",
              "            style=\"display:none;\">\n",
              "\n",
              "  <svg xmlns=\"http://www.w3.org/2000/svg\" height=\"24px\" viewBox=\"0 -960 960 960\">\n",
              "    <path d=\"M120-120v-720h720v720H120Zm60-500h600v-160H180v160Zm220 220h160v-160H400v160Zm0 220h160v-160H400v160ZM180-400h160v-160H180v160Zm440 0h160v-160H620v160ZM180-180h160v-160H180v160Zm440 0h160v-160H620v160Z\"/>\n",
              "  </svg>\n",
              "    </button>\n",
              "\n",
              "  <style>\n",
              "    .colab-df-container {\n",
              "      display:flex;\n",
              "      gap: 12px;\n",
              "    }\n",
              "\n",
              "    .colab-df-convert {\n",
              "      background-color: #E8F0FE;\n",
              "      border: none;\n",
              "      border-radius: 50%;\n",
              "      cursor: pointer;\n",
              "      display: none;\n",
              "      fill: #1967D2;\n",
              "      height: 32px;\n",
              "      padding: 0 0 0 0;\n",
              "      width: 32px;\n",
              "    }\n",
              "\n",
              "    .colab-df-convert:hover {\n",
              "      background-color: #E2EBFA;\n",
              "      box-shadow: 0px 1px 2px rgba(60, 64, 67, 0.3), 0px 1px 3px 1px rgba(60, 64, 67, 0.15);\n",
              "      fill: #174EA6;\n",
              "    }\n",
              "\n",
              "    .colab-df-buttons div {\n",
              "      margin-bottom: 4px;\n",
              "    }\n",
              "\n",
              "    [theme=dark] .colab-df-convert {\n",
              "      background-color: #3B4455;\n",
              "      fill: #D2E3FC;\n",
              "    }\n",
              "\n",
              "    [theme=dark] .colab-df-convert:hover {\n",
              "      background-color: #434B5C;\n",
              "      box-shadow: 0px 1px 3px 1px rgba(0, 0, 0, 0.15);\n",
              "      filter: drop-shadow(0px 1px 2px rgba(0, 0, 0, 0.3));\n",
              "      fill: #FFFFFF;\n",
              "    }\n",
              "  </style>\n",
              "\n",
              "    <script>\n",
              "      const buttonEl =\n",
              "        document.querySelector('#df-f63eea66-7f0b-471a-851d-fa27eb2f49c2 button.colab-df-convert');\n",
              "      buttonEl.style.display =\n",
              "        google.colab.kernel.accessAllowed ? 'block' : 'none';\n",
              "\n",
              "      async function convertToInteractive(key) {\n",
              "        const element = document.querySelector('#df-f63eea66-7f0b-471a-851d-fa27eb2f49c2');\n",
              "        const dataTable =\n",
              "          await google.colab.kernel.invokeFunction('convertToInteractive',\n",
              "                                                    [key], {});\n",
              "        if (!dataTable) return;\n",
              "\n",
              "        const docLinkHtml = 'Like what you see? Visit the ' +\n",
              "          '<a target=\"_blank\" href=https://colab.research.google.com/notebooks/data_table.ipynb>data table notebook</a>'\n",
              "          + ' to learn more about interactive tables.';\n",
              "        element.innerHTML = '';\n",
              "        dataTable['output_type'] = 'display_data';\n",
              "        await google.colab.output.renderOutput(dataTable, element);\n",
              "        const docLink = document.createElement('div');\n",
              "        docLink.innerHTML = docLinkHtml;\n",
              "        element.appendChild(docLink);\n",
              "      }\n",
              "    </script>\n",
              "  </div>\n",
              "\n",
              "\n",
              "<div id=\"df-e8bf18ad-481f-48e1-8bb3-632faa948dfa\">\n",
              "  <button class=\"colab-df-quickchart\" onclick=\"quickchart('df-e8bf18ad-481f-48e1-8bb3-632faa948dfa')\"\n",
              "            title=\"Suggest charts.\"\n",
              "            style=\"display:none;\">\n",
              "\n",
              "<svg xmlns=\"http://www.w3.org/2000/svg\" height=\"24px\"viewBox=\"0 0 24 24\"\n",
              "     width=\"24px\">\n",
              "    <g>\n",
              "        <path d=\"M19 3H5c-1.1 0-2 .9-2 2v14c0 1.1.9 2 2 2h14c1.1 0 2-.9 2-2V5c0-1.1-.9-2-2-2zM9 17H7v-7h2v7zm4 0h-2V7h2v10zm4 0h-2v-4h2v4z\"/>\n",
              "    </g>\n",
              "</svg>\n",
              "  </button>\n",
              "\n",
              "<style>\n",
              "  .colab-df-quickchart {\n",
              "      --bg-color: #E8F0FE;\n",
              "      --fill-color: #1967D2;\n",
              "      --hover-bg-color: #E2EBFA;\n",
              "      --hover-fill-color: #174EA6;\n",
              "      --disabled-fill-color: #AAA;\n",
              "      --disabled-bg-color: #DDD;\n",
              "  }\n",
              "\n",
              "  [theme=dark] .colab-df-quickchart {\n",
              "      --bg-color: #3B4455;\n",
              "      --fill-color: #D2E3FC;\n",
              "      --hover-bg-color: #434B5C;\n",
              "      --hover-fill-color: #FFFFFF;\n",
              "      --disabled-bg-color: #3B4455;\n",
              "      --disabled-fill-color: #666;\n",
              "  }\n",
              "\n",
              "  .colab-df-quickchart {\n",
              "    background-color: var(--bg-color);\n",
              "    border: none;\n",
              "    border-radius: 50%;\n",
              "    cursor: pointer;\n",
              "    display: none;\n",
              "    fill: var(--fill-color);\n",
              "    height: 32px;\n",
              "    padding: 0;\n",
              "    width: 32px;\n",
              "  }\n",
              "\n",
              "  .colab-df-quickchart:hover {\n",
              "    background-color: var(--hover-bg-color);\n",
              "    box-shadow: 0 1px 2px rgba(60, 64, 67, 0.3), 0 1px 3px 1px rgba(60, 64, 67, 0.15);\n",
              "    fill: var(--button-hover-fill-color);\n",
              "  }\n",
              "\n",
              "  .colab-df-quickchart-complete:disabled,\n",
              "  .colab-df-quickchart-complete:disabled:hover {\n",
              "    background-color: var(--disabled-bg-color);\n",
              "    fill: var(--disabled-fill-color);\n",
              "    box-shadow: none;\n",
              "  }\n",
              "\n",
              "  .colab-df-spinner {\n",
              "    border: 2px solid var(--fill-color);\n",
              "    border-color: transparent;\n",
              "    border-bottom-color: var(--fill-color);\n",
              "    animation:\n",
              "      spin 1s steps(1) infinite;\n",
              "  }\n",
              "\n",
              "  @keyframes spin {\n",
              "    0% {\n",
              "      border-color: transparent;\n",
              "      border-bottom-color: var(--fill-color);\n",
              "      border-left-color: var(--fill-color);\n",
              "    }\n",
              "    20% {\n",
              "      border-color: transparent;\n",
              "      border-left-color: var(--fill-color);\n",
              "      border-top-color: var(--fill-color);\n",
              "    }\n",
              "    30% {\n",
              "      border-color: transparent;\n",
              "      border-left-color: var(--fill-color);\n",
              "      border-top-color: var(--fill-color);\n",
              "      border-right-color: var(--fill-color);\n",
              "    }\n",
              "    40% {\n",
              "      border-color: transparent;\n",
              "      border-right-color: var(--fill-color);\n",
              "      border-top-color: var(--fill-color);\n",
              "    }\n",
              "    60% {\n",
              "      border-color: transparent;\n",
              "      border-right-color: var(--fill-color);\n",
              "    }\n",
              "    80% {\n",
              "      border-color: transparent;\n",
              "      border-right-color: var(--fill-color);\n",
              "      border-bottom-color: var(--fill-color);\n",
              "    }\n",
              "    90% {\n",
              "      border-color: transparent;\n",
              "      border-bottom-color: var(--fill-color);\n",
              "    }\n",
              "  }\n",
              "</style>\n",
              "\n",
              "  <script>\n",
              "    async function quickchart(key) {\n",
              "      const quickchartButtonEl =\n",
              "        document.querySelector('#' + key + ' button');\n",
              "      quickchartButtonEl.disabled = true;  // To prevent multiple clicks.\n",
              "      quickchartButtonEl.classList.add('colab-df-spinner');\n",
              "      try {\n",
              "        const charts = await google.colab.kernel.invokeFunction(\n",
              "            'suggestCharts', [key], {});\n",
              "      } catch (error) {\n",
              "        console.error('Error during call to suggestCharts:', error);\n",
              "      }\n",
              "      quickchartButtonEl.classList.remove('colab-df-spinner');\n",
              "      quickchartButtonEl.classList.add('colab-df-quickchart-complete');\n",
              "    }\n",
              "    (() => {\n",
              "      let quickchartButtonEl =\n",
              "        document.querySelector('#df-e8bf18ad-481f-48e1-8bb3-632faa948dfa button');\n",
              "      quickchartButtonEl.style.display =\n",
              "        google.colab.kernel.accessAllowed ? 'block' : 'none';\n",
              "    })();\n",
              "  </script>\n",
              "</div>\n",
              "    </div>\n",
              "  </div>\n"
            ]
          },
          "metadata": {},
          "execution_count": 6
        }
      ]
    },
    {
      "cell_type": "markdown",
      "source": [
        "## Download das amostras\n",
        "\n",
        "Com base nas informações fornecidas nas descrições das colunas no arquivo `layout.csv`, podemos iniciar o processo descartando algumas colunas. Isso nos permitirá reduzir a quantidade de dados aparentemente \"desnecessários\" que seriam carregados durante o download das amostras. É importante mencionar que estamos trabalhando com uma porção do conjunto completo de dados devido à sua extensão, pois lidar com a totalidade dos dados poderia sobrecarregar o kernel do Colab e nossos códigos."
      ],
      "metadata": {
        "id": "KZikVHx6Oego"
      }
    },
    {
      "cell_type": "code",
      "source": [
        "colunas_a_excluir = ['Bairros SP',\n",
        "                     'Bairros Fortaleza',\n",
        "                     'Bairros RJ',\n",
        "                     'CNAE 95 Classe',\n",
        "                     'Distritos SP',\n",
        "                     'Faixa Etária',\n",
        "                     'Faixa Hora Contrat',\n",
        "                     'Ind CEI Vinculado',\n",
        "                     'Ind Simples',\n",
        "                     'Mun Trab',\n",
        "                     'Nacionalidade',\n",
        "                     'Regiões Adm DF',\n",
        "                     'Tipo Estab.1',\n",
        "                     'Vl Remun Dezembro Nom',\n",
        "                     'Vl Remun Média Nom',\n",
        "                     'Vl Remun Dezembro (SM)',\n",
        "                     'Vl Rem Janeiro SC',\n",
        "                     'Vl Rem Fevereiro SC',\n",
        "                     'Vl Rem Março SC',\n",
        "                     'Vl Rem Abril SC',\n",
        "                     'Vl Rem Maio SC',\n",
        "                     'Vl Rem Junho SC',\n",
        "                     'Vl Rem Julho SC',\n",
        "                     'Vl Rem Agosto SC',\n",
        "                     'Vl Rem Setembro SC',\n",
        "                     'Vl Rem Outubro SC',\n",
        "                     'Vl Rem Novembro SC',\n",
        "                     'Ano Chegada Brasil']"
      ],
      "metadata": {
        "id": "YugTjjFUPmGK"
      },
      "execution_count": null,
      "outputs": []
    },
    {
      "cell_type": "markdown",
      "source": [
        "Vamos importar nossa classe para extrair, amostrar e exportar como dataframe do tipo parquet:"
      ],
      "metadata": {
        "id": "Df4TBSyXMRFP"
      }
    },
    {
      "cell_type": "code",
      "source": [
        "from processador_de_dados_rais import ProcessadorDeDadosRais"
      ],
      "metadata": {
        "id": "BplPhVZhMI8p"
      },
      "execution_count": null,
      "outputs": []
    },
    {
      "cell_type": "markdown",
      "source": [
        "Importante: a função `processar_dados_e_salvar` da `ProcessadorDeDadosRais` espera um parâmetro de indíce, que é justamente o indice do arquivo 7z que será extraíndo, por exemplo, em:\n",
        "\n"
      ],
      "metadata": {
        "id": "3GNT_ozmMhHn"
      }
    },
    {
      "cell_type": "code",
      "source": [
        "os.listdir(os.path.join(base, str(2020)))"
      ],
      "metadata": {
        "colab": {
          "base_uri": "https://localhost:8080/"
        },
        "id": "oYRzHTkbM1bf",
        "outputId": "cc16c9fe-a1cc-4b6b-eaab-4887fc45a04b"
      },
      "execution_count": null,
      "outputs": [
        {
          "output_type": "execute_result",
          "data": {
            "text/plain": [
              "['RAIS_VINC_PUB_CENTRO_OESTE.7z',\n",
              " 'RAIS_VINC_PUB_MG_ES_RJ.7z',\n",
              " 'RAIS_VINC_PUB_NORDESTE.7z',\n",
              " 'RAIS_VINC_PUB_NORTE.7z',\n",
              " 'RAIS_VINC_PUB_SP.7z',\n",
              " 'RAIS_VINC_PUB_SUL.7z']"
            ]
          },
          "metadata": {},
          "execution_count": 9
        }
      ]
    },
    {
      "cell_type": "markdown",
      "source": [
        "É importante destacar que ocasionalmente o Kernel pode encerrar. Portanto, se isso ocorrer, por favor, proceda com a reinicialização do ambiente Colab e dos trechos de código a seguir ou coloque `baixa_memoria = True` para melhorar o desempenho (menos consumo de RAM do sistema, em compensação, demorará mais)."
      ],
      "metadata": {
        "id": "Kxxfud-IHsln"
      }
    },
    {
      "cell_type": "code",
      "source": [
        "ano = 2020\n",
        "base = '/content/drive/MyDrive/Projeto - RAIS/base/'\n",
        "saida = '/content/drive/MyDrive/Projeto - RAIS/extract/'\n",
        "\n",
        "processador = ProcessadorDeDadosRais(proporcao_amostra = 0.01, semente_aleatoria = 42)\n",
        "processador.processar_dados_e_salvar(ano, 0, base, saida, colunas_a_excluir, baixa_memoria = False)"
      ],
      "metadata": {
        "colab": {
          "base_uri": "https://localhost:8080/",
          "height": 140
        },
        "id": "TGCmaO9RqyFU",
        "outputId": "f4d6e4dc-d591-455a-d472-70b864b0a96f"
      },
      "execution_count": null,
      "outputs": [
        {
          "output_type": "stream",
          "name": "stdout",
          "text": [
            "Acessando o diretório: RAIS_VINC_PUB_CENTRO_OESTE.7z \n",
            "\n",
            "Extraindo arquivo: RAIS_VINC_PUB_CENTRO_OESTE.txt\n",
            "O arquivo já foi extraído anteriormente: /content/drive/MyDrive/Projeto - RAIS/extract/2020/RAIS_VINC_PUB_CENTRO_OESTE.txt\n",
            "\n",
            "Criando DataFrame para: CENTRO_OESTE\n"
          ]
        },
        {
          "output_type": "execute_result",
          "data": {
            "text/plain": [
              "'O dataframe em formato parquet já foi salvo anteriormente.'"
            ],
            "application/vnd.google.colaboratory.intrinsic+json": {
              "type": "string"
            }
          },
          "metadata": {},
          "execution_count": 10
        }
      ]
    },
    {
      "cell_type": "code",
      "source": [
        "ano = 2021\n",
        "base = '/content/drive/MyDrive/Projeto - RAIS/base/'\n",
        "saida = '/content/drive/MyDrive/Projeto - RAIS/extract/'\n",
        "\n",
        "processador = ProcessadorDeDadosRais(proporcao_amostra = 0.01, semente_aleatoria = 42)\n",
        "processador.processar_dados_e_salvar(ano, 0, base, saida, colunas_a_excluir, baixa_memoria = False)"
      ],
      "metadata": {
        "colab": {
          "base_uri": "https://localhost:8080/",
          "height": 140
        },
        "id": "bF1eh0ZNOSVj",
        "outputId": "5ad216a5-4d1c-4e0c-ee9a-57b8e3f549d6"
      },
      "execution_count": null,
      "outputs": [
        {
          "output_type": "stream",
          "name": "stdout",
          "text": [
            "Acessando o diretório: RAIS_VINC_PUB_CENTRO_OESTE.7z \n",
            "\n",
            "Extraindo arquivo: RAIS_VINC_PUB_CENTRO_OESTE.txt\n",
            "O arquivo já foi extraído anteriormente: /content/drive/MyDrive/Projeto - RAIS/extract/2021/RAIS_VINC_PUB_CENTRO_OESTE.txt\n",
            "\n",
            "Criando DataFrame para: CENTRO_OESTE\n"
          ]
        },
        {
          "output_type": "execute_result",
          "data": {
            "text/plain": [
              "'O dataframe em formato parquet já foi salvo anteriormente.'"
            ],
            "application/vnd.google.colaboratory.intrinsic+json": {
              "type": "string"
            }
          },
          "metadata": {},
          "execution_count": 11
        }
      ]
    }
  ]
}