{
  "nbformat": 4,
  "nbformat_minor": 0,
  "metadata": {
    "colab": {
      "provenance": [],
      "authorship_tag": "ABX9TyNKjMWbSIKqZVTFYDo9IHWe",
      "include_colab_link": true
    },
    "kernelspec": {
      "name": "python3",
      "display_name": "Python 3"
    },
    "language_info": {
      "name": "python"
    }
  },
  "cells": [
    {
      "cell_type": "markdown",
      "metadata": {
        "id": "view-in-github",
        "colab_type": "text"
      },
      "source": [
        "<a href=\"https://colab.research.google.com/github/SarahBarbosa/AluraDataChallenge_2/blob/main/S02_Feature_Engineering_e_Modelo_de_Machine_Learning.ipynb\" target=\"_parent\"><img src=\"https://colab.research.google.com/assets/colab-badge.svg\" alt=\"Open In Colab\"/></a>"
      ]
    },
    {
      "cell_type": "markdown",
      "source": [
        "![](https://imgur.com/QnT31vZ.png)\n",
        "\n",
        "---\n",
        "\n",
        "# Sobre o desafio\n",
        "\n",
        "Na semana 02, vamos focar na construção e otimização de modelos de machine learning para lidar com a Taxa de Churn. Agora que terminamos a limpeza e análise inicial dos dados, é hora de usar algoritmos de aprendizado de máquina para transformar nossos insights em ações eficazes."
      ],
      "metadata": {
        "id": "sRNoie-8ilnC"
      }
    },
    {
      "cell_type": "markdown",
      "source": [
        "<div style=\"background-color: #171821; color: white; padding: 10px; text-align: center; font-size: 20px;\">\n",
        "    <h1>Feature Engineearing</h1>\n",
        "</div>"
      ],
      "metadata": {
        "id": "t8_FjLOfkl3d"
      }
    },
    {
      "cell_type": "code",
      "execution_count": null,
      "metadata": {
        "id": "rlISPj4rhH0c"
      },
      "outputs": [],
      "source": []
    }
  ]
}