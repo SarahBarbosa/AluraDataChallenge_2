{
  "nbformat": 4,
  "nbformat_minor": 0,
  "metadata": {
    "colab": {
      "provenance": [],
      "authorship_tag": "ABX9TyMXjwJK/B7xfixkeBHvGwiO",
      "include_colab_link": true
    },
    "kernelspec": {
      "name": "python3",
      "display_name": "Python 3"
    },
    "language_info": {
      "name": "python"
    }
  },
  "cells": [
    {
      "cell_type": "markdown",
      "metadata": {
        "id": "view-in-github",
        "colab_type": "text"
      },
      "source": [
        "<a href=\"https://colab.research.google.com/github/SarahBarbosa/AluraDataChallenge_2/blob/main/S02_Feature_Engineering_e_Modelo_de_Machine_Learning.ipynb\" target=\"_parent\"><img src=\"https://colab.research.google.com/assets/colab-badge.svg\" alt=\"Open In Colab\"/></a>"
      ]
    },
    {
      "cell_type": "markdown",
      "source": [
        "![](https://imgur.com/QnT31vZ.png)\n",
        "\n",
        "---\n",
        "\n",
        "# Sobre o desafio\n",
        "\n",
        "Na semana 02, vamos focar na construção e otimização de modelos de machine learning (ML) para lidar com a Taxa de Churn. Agora que terminamos a limpeza e análise inicial dos dados na semana 01, é hora de usar algoritmos de ML para transformar nossos insights em ações eficazes."
      ],
      "metadata": {
        "id": "sRNoie-8ilnC"
      }
    },
    {
      "cell_type": "markdown",
      "source": [
        "## Configurando o ambiente"
      ],
      "metadata": {
        "id": "vakP2c-ahLGJ"
      }
    },
    {
      "cell_type": "code",
      "source": [
        "%%capture\n",
        "from google.colab import drive\n",
        "drive.mount('/content/drive')\n",
        "\n",
        "import sys\n",
        "sys.path.append('/content/drive/MyDrive/Github/AluraDataChallenge_2')"
      ],
      "metadata": {
        "id": "zFbXvv9ylWqZ"
      },
      "execution_count": 14,
      "outputs": []
    },
    {
      "cell_type": "markdown",
      "source": [
        "## Carregando os dados tratados na Semana 01"
      ],
      "metadata": {
        "id": "Fs8sLuiJhP74"
      }
    },
    {
      "cell_type": "code",
      "source": [
        "import pandas as pd\n",
        "\n",
        "DIRETORIO_BASE = '/content/drive/MyDrive/Github/AluraDataChallenge_2/'\n",
        "DIRETORIO_DADOS = DIRETORIO_BASE + 'Dados/'\n",
        "\n",
        "dados_novexus = pd.read_csv(DIRETORIO_DADOS + 'dados_novexus_tratado.csv')"
      ],
      "metadata": {
        "id": "degU-HjDlP1q"
      },
      "execution_count": 15,
      "outputs": []
    },
    {
      "cell_type": "markdown",
      "source": [
        "**Observação:** Antes de avançar com nossas análises e modelagem, vamos modificar o nome das colunas para simplificar nosso trabalho (poderíamos ter feito isso na semana 01, mas ainda dá tempo):"
      ],
      "metadata": {
        "id": "k0p7no5Xh-7U"
      }
    },
    {
      "cell_type": "code",
      "source": [
        "import funcoes_auxiliares as func_aux\n",
        "\n",
        "dados = dados_novexus.rename(columns = func_aux.renomeia_coluna).copy()"
      ],
      "metadata": {
        "id": "COL1RECri4i1"
      },
      "execution_count": 16,
      "outputs": []
    },
    {
      "cell_type": "code",
      "source": [
        "dados.columns"
      ],
      "metadata": {
        "colab": {
          "base_uri": "https://localhost:8080/"
        },
        "id": "tNabDC7khr4c",
        "outputId": "f1243a48-b21e-470d-c25f-bf2210493db0"
      },
      "execution_count": 17,
      "outputs": [
        {
          "output_type": "execute_result",
          "data": {
            "text/plain": [
              "Index(['Churn', 'Gender', 'Seniorcitizen', 'Partner', 'Dependents', 'Tenure',\n",
              "       'Multiplelines', 'Onlinesecurity', 'Onlinebackup', 'Deviceprotection',\n",
              "       'Techsupport', 'Streamingtv', 'Streamingmovies', 'Paperlessbilling',\n",
              "       'Charges_monthly', 'Charges_total', 'Internetservice_dsl',\n",
              "       'Internetservice_fiber_optic', 'Contract_month-to-month',\n",
              "       'Contract_one_year', 'Contract_two_year',\n",
              "       'Paymentmethod_bank_transfer_automatic',\n",
              "       'Paymentmethod_credit_card_automatic', 'Paymentmethod_electronic_check',\n",
              "       'Paymentmethod_mailed_check', 'Nophoneservice', 'Nointernetservice'],\n",
              "      dtype='object')"
            ]
          },
          "metadata": {},
          "execution_count": 17
        }
      ]
    },
    {
      "cell_type": "markdown",
      "source": [
        "<div style=\"background-color: #171821; color: white; padding: 10px; text-align: center; font-size: 20px;\">\n",
        "    <h1>Feature Engineering</h1>\n",
        "</div>\n",
        "\n",
        "Após as análises detalhadas feitas na semana 01, ficou claro que podemos criar novas variáveis e segmentação dos dados para tornar nossas features mais úteis para a construção dos modelos ML. No entanto, por boas práticas, criamos um transformador (veja `funcoes_feat_eng.py`) com um hiperparâmetro que bloqueia a adição ou não de novas features para casos que não temos 100% de certeza se essa nova feature irá ajudar ou não no algoritmo de ML.\n",
        "\n",
        "E quais seriam essas novas features?\n"
      ],
      "metadata": {
        "id": "tGXiXVEDmKAu"
      }
    },
    {
      "cell_type": "markdown",
      "source": [
        "## Experimentando combinações de features"
      ],
      "metadata": {
        "id": "eV9rcKXkNzRt"
      }
    },
    {
      "cell_type": "markdown",
      "source": [
        "### Criando segmentos anuais para Tenure e segmentos para Charges_monthly e Charges_total\n",
        "\n",
        "Sabemos que a variável `Tenure` representa o período de contrato em meses de cada cliente. Para uma melhor análise, decidimos categorizar essa feature em intervalos anuais. Vale mencionar que o intervalo mínimo é de 1 mês, enquanto o máximo é de 72 meses (6 anos).\n",
        "\n",
        "> Categorias: `['0-1 Year', '1-2 Year', '2-3 Year', '3-4 Year', '4-5 Year', '5-6 Year']`\n",
        "\n",
        "Além disso, podemos fazer uma segmentação nos gastos mensais (`Charges_Monthly`) e nas gastos totais (`Charges_Total`) em 4 categorias. Essa abordagem nos permite identificar grupos de clientes com diferentes níveis de despesas, o que é mais informativo do que considerar apenas valores contínuos.\n",
        "\n",
        "> Categorias: `['Low', 'Moderate', 'High', 'Very High']`\n",
        "\n",
        "*Observação*: deixamos em inglês pois as colunas não foram traduzidas.\n",
        "\n"
      ],
      "metadata": {
        "id": "1_pzY42r7aX6"
      }
    },
    {
      "cell_type": "markdown",
      "source": [
        "### Número total de serviços de internet recebidos pelo cliente\n",
        "\n",
        "Calculamos o número total de serviços recebidos por cada cliente com base em várias condições relacionadas aos serviços de internet. Isso nos dá uma visão geral do alcance dos serviços utilizados pelos clientes."
      ],
      "metadata": {
        "id": "Xr_QieDLwbiv"
      }
    },
    {
      "cell_type": "markdown",
      "source": [
        "### Calculando o custo por serviço\n",
        "\n",
        "Por fim, para determinar o custo por serviço, dividimos o valor mensal dos gastos pelo número total de serviços mais um (adicionando \"+1\" para evitar divisões por zero quando não há nenhum serviço contratado)."
      ],
      "metadata": {
        "id": "fkc0rObGyF5Z"
      }
    },
    {
      "cell_type": "markdown",
      "source": [
        "## Encoding adicional e Feature Scaling\n",
        "\n",
        "Com base nos insights anteriores, agora é necessário converter as novas features em valores binários, usando a função `pd.get_dummies()` que anteriormente evitamos. Além disso, precisamos ajustar os dados que estão em uma escala consideravelmente maior do que 0 e 1 para que todos estejam na mesma escala. Esse processo de ajuste nos permitirá padronizar as features, removendo a média e dimensionando para uma variação unitária."
      ],
      "metadata": {
        "id": "4vfyXWicNmXJ"
      }
    },
    {
      "cell_type": "markdown",
      "source": [
        "## \"Pipeline\" de transformação"
      ],
      "metadata": {
        "id": "BhW7B3LWOSIg"
      }
    },
    {
      "cell_type": "code",
      "source": [
        "from sklearn.preprocessing import StandardScaler\n",
        "from funcoes_feat_eng import ProcessadorDadosCustomizado\n",
        "\n",
        "# Adicionando novas features\n",
        "processador = ProcessadorDadosCustomizado()\n",
        "dados_extras = processador.transform(dados)\n",
        "\n",
        "# Encoding One-Hot\n",
        "dados_extras = pd.get_dummies(dados_extras)\n",
        "\n",
        "# Feature Scaling\n",
        "colunas_numericas = [col for col in dados_extras.columns if dados_extras[col].nunique() > 2]\n",
        "scaler = StandardScaler()\n",
        "dados_extras[colunas_numericas] = scaler.fit_transform(dados_extras[colunas_numericas])"
      ],
      "metadata": {
        "id": "pNpeBgHISYXJ"
      },
      "execution_count": 12,
      "outputs": []
    },
    {
      "cell_type": "code",
      "source": [
        "dados_extras[colunas_numericas].head()"
      ],
      "metadata": {
        "colab": {
          "base_uri": "https://localhost:8080/",
          "height": 206
        },
        "id": "UVyxijck87Zv",
        "outputId": "d4f4f9be-1163-4ec3-9aa6-1dba397cf92b"
      },
      "execution_count": 21,
      "outputs": [
        {
          "output_type": "execute_result",
          "data": {
            "text/plain": [
              "     Tenure  Charges_monthly  Charges_total  Num_internet_service  \\\n",
              "0 -0.954310         0.027862      -0.745055              0.520738   \n",
              "1 -0.954310        -0.161583      -0.767522             -0.561776   \n",
              "2 -1.158162         0.303720      -0.882969             -0.561776   \n",
              "3 -0.791228         1.104706      -0.460553              1.061995   \n",
              "4 -1.198932         0.636080      -0.888905             -0.020519   \n",
              "\n",
              "   charge_per_internet_service  \n",
              "0                    -0.645034  \n",
              "1                     0.316483  \n",
              "2                     0.813208  \n",
              "3                    -0.417960  \n",
              "4                     0.175745  "
            ],
            "text/html": [
              "\n",
              "  <div id=\"df-b715c5e8-fba9-40d7-a4d4-b53c19ab4958\" class=\"colab-df-container\">\n",
              "    <div>\n",
              "<style scoped>\n",
              "    .dataframe tbody tr th:only-of-type {\n",
              "        vertical-align: middle;\n",
              "    }\n",
              "\n",
              "    .dataframe tbody tr th {\n",
              "        vertical-align: top;\n",
              "    }\n",
              "\n",
              "    .dataframe thead th {\n",
              "        text-align: right;\n",
              "    }\n",
              "</style>\n",
              "<table border=\"1\" class=\"dataframe\">\n",
              "  <thead>\n",
              "    <tr style=\"text-align: right;\">\n",
              "      <th></th>\n",
              "      <th>Tenure</th>\n",
              "      <th>Charges_monthly</th>\n",
              "      <th>Charges_total</th>\n",
              "      <th>Num_internet_service</th>\n",
              "      <th>charge_per_internet_service</th>\n",
              "    </tr>\n",
              "  </thead>\n",
              "  <tbody>\n",
              "    <tr>\n",
              "      <th>0</th>\n",
              "      <td>-0.954310</td>\n",
              "      <td>0.027862</td>\n",
              "      <td>-0.745055</td>\n",
              "      <td>0.520738</td>\n",
              "      <td>-0.645034</td>\n",
              "    </tr>\n",
              "    <tr>\n",
              "      <th>1</th>\n",
              "      <td>-0.954310</td>\n",
              "      <td>-0.161583</td>\n",
              "      <td>-0.767522</td>\n",
              "      <td>-0.561776</td>\n",
              "      <td>0.316483</td>\n",
              "    </tr>\n",
              "    <tr>\n",
              "      <th>2</th>\n",
              "      <td>-1.158162</td>\n",
              "      <td>0.303720</td>\n",
              "      <td>-0.882969</td>\n",
              "      <td>-0.561776</td>\n",
              "      <td>0.813208</td>\n",
              "    </tr>\n",
              "    <tr>\n",
              "      <th>3</th>\n",
              "      <td>-0.791228</td>\n",
              "      <td>1.104706</td>\n",
              "      <td>-0.460553</td>\n",
              "      <td>1.061995</td>\n",
              "      <td>-0.417960</td>\n",
              "    </tr>\n",
              "    <tr>\n",
              "      <th>4</th>\n",
              "      <td>-1.198932</td>\n",
              "      <td>0.636080</td>\n",
              "      <td>-0.888905</td>\n",
              "      <td>-0.020519</td>\n",
              "      <td>0.175745</td>\n",
              "    </tr>\n",
              "  </tbody>\n",
              "</table>\n",
              "</div>\n",
              "    <div class=\"colab-df-buttons\">\n",
              "\n",
              "  <div class=\"colab-df-container\">\n",
              "    <button class=\"colab-df-convert\" onclick=\"convertToInteractive('df-b715c5e8-fba9-40d7-a4d4-b53c19ab4958')\"\n",
              "            title=\"Convert this dataframe to an interactive table.\"\n",
              "            style=\"display:none;\">\n",
              "\n",
              "  <svg xmlns=\"http://www.w3.org/2000/svg\" height=\"24px\" viewBox=\"0 -960 960 960\">\n",
              "    <path d=\"M120-120v-720h720v720H120Zm60-500h600v-160H180v160Zm220 220h160v-160H400v160Zm0 220h160v-160H400v160ZM180-400h160v-160H180v160Zm440 0h160v-160H620v160ZM180-180h160v-160H180v160Zm440 0h160v-160H620v160Z\"/>\n",
              "  </svg>\n",
              "    </button>\n",
              "\n",
              "  <style>\n",
              "    .colab-df-container {\n",
              "      display:flex;\n",
              "      gap: 12px;\n",
              "    }\n",
              "\n",
              "    .colab-df-convert {\n",
              "      background-color: #E8F0FE;\n",
              "      border: none;\n",
              "      border-radius: 50%;\n",
              "      cursor: pointer;\n",
              "      display: none;\n",
              "      fill: #1967D2;\n",
              "      height: 32px;\n",
              "      padding: 0 0 0 0;\n",
              "      width: 32px;\n",
              "    }\n",
              "\n",
              "    .colab-df-convert:hover {\n",
              "      background-color: #E2EBFA;\n",
              "      box-shadow: 0px 1px 2px rgba(60, 64, 67, 0.3), 0px 1px 3px 1px rgba(60, 64, 67, 0.15);\n",
              "      fill: #174EA6;\n",
              "    }\n",
              "\n",
              "    .colab-df-buttons div {\n",
              "      margin-bottom: 4px;\n",
              "    }\n",
              "\n",
              "    [theme=dark] .colab-df-convert {\n",
              "      background-color: #3B4455;\n",
              "      fill: #D2E3FC;\n",
              "    }\n",
              "\n",
              "    [theme=dark] .colab-df-convert:hover {\n",
              "      background-color: #434B5C;\n",
              "      box-shadow: 0px 1px 3px 1px rgba(0, 0, 0, 0.15);\n",
              "      filter: drop-shadow(0px 1px 2px rgba(0, 0, 0, 0.3));\n",
              "      fill: #FFFFFF;\n",
              "    }\n",
              "  </style>\n",
              "\n",
              "    <script>\n",
              "      const buttonEl =\n",
              "        document.querySelector('#df-b715c5e8-fba9-40d7-a4d4-b53c19ab4958 button.colab-df-convert');\n",
              "      buttonEl.style.display =\n",
              "        google.colab.kernel.accessAllowed ? 'block' : 'none';\n",
              "\n",
              "      async function convertToInteractive(key) {\n",
              "        const element = document.querySelector('#df-b715c5e8-fba9-40d7-a4d4-b53c19ab4958');\n",
              "        const dataTable =\n",
              "          await google.colab.kernel.invokeFunction('convertToInteractive',\n",
              "                                                    [key], {});\n",
              "        if (!dataTable) return;\n",
              "\n",
              "        const docLinkHtml = 'Like what you see? Visit the ' +\n",
              "          '<a target=\"_blank\" href=https://colab.research.google.com/notebooks/data_table.ipynb>data table notebook</a>'\n",
              "          + ' to learn more about interactive tables.';\n",
              "        element.innerHTML = '';\n",
              "        dataTable['output_type'] = 'display_data';\n",
              "        await google.colab.output.renderOutput(dataTable, element);\n",
              "        const docLink = document.createElement('div');\n",
              "        docLink.innerHTML = docLinkHtml;\n",
              "        element.appendChild(docLink);\n",
              "      }\n",
              "    </script>\n",
              "  </div>\n",
              "\n",
              "\n",
              "<div id=\"df-f23bdb62-8587-465b-9e34-be8f2e851794\">\n",
              "  <button class=\"colab-df-quickchart\" onclick=\"quickchart('df-f23bdb62-8587-465b-9e34-be8f2e851794')\"\n",
              "            title=\"Suggest charts.\"\n",
              "            style=\"display:none;\">\n",
              "\n",
              "<svg xmlns=\"http://www.w3.org/2000/svg\" height=\"24px\"viewBox=\"0 0 24 24\"\n",
              "     width=\"24px\">\n",
              "    <g>\n",
              "        <path d=\"M19 3H5c-1.1 0-2 .9-2 2v14c0 1.1.9 2 2 2h14c1.1 0 2-.9 2-2V5c0-1.1-.9-2-2-2zM9 17H7v-7h2v7zm4 0h-2V7h2v10zm4 0h-2v-4h2v4z\"/>\n",
              "    </g>\n",
              "</svg>\n",
              "  </button>\n",
              "\n",
              "<style>\n",
              "  .colab-df-quickchart {\n",
              "      --bg-color: #E8F0FE;\n",
              "      --fill-color: #1967D2;\n",
              "      --hover-bg-color: #E2EBFA;\n",
              "      --hover-fill-color: #174EA6;\n",
              "      --disabled-fill-color: #AAA;\n",
              "      --disabled-bg-color: #DDD;\n",
              "  }\n",
              "\n",
              "  [theme=dark] .colab-df-quickchart {\n",
              "      --bg-color: #3B4455;\n",
              "      --fill-color: #D2E3FC;\n",
              "      --hover-bg-color: #434B5C;\n",
              "      --hover-fill-color: #FFFFFF;\n",
              "      --disabled-bg-color: #3B4455;\n",
              "      --disabled-fill-color: #666;\n",
              "  }\n",
              "\n",
              "  .colab-df-quickchart {\n",
              "    background-color: var(--bg-color);\n",
              "    border: none;\n",
              "    border-radius: 50%;\n",
              "    cursor: pointer;\n",
              "    display: none;\n",
              "    fill: var(--fill-color);\n",
              "    height: 32px;\n",
              "    padding: 0;\n",
              "    width: 32px;\n",
              "  }\n",
              "\n",
              "  .colab-df-quickchart:hover {\n",
              "    background-color: var(--hover-bg-color);\n",
              "    box-shadow: 0 1px 2px rgba(60, 64, 67, 0.3), 0 1px 3px 1px rgba(60, 64, 67, 0.15);\n",
              "    fill: var(--button-hover-fill-color);\n",
              "  }\n",
              "\n",
              "  .colab-df-quickchart-complete:disabled,\n",
              "  .colab-df-quickchart-complete:disabled:hover {\n",
              "    background-color: var(--disabled-bg-color);\n",
              "    fill: var(--disabled-fill-color);\n",
              "    box-shadow: none;\n",
              "  }\n",
              "\n",
              "  .colab-df-spinner {\n",
              "    border: 2px solid var(--fill-color);\n",
              "    border-color: transparent;\n",
              "    border-bottom-color: var(--fill-color);\n",
              "    animation:\n",
              "      spin 1s steps(1) infinite;\n",
              "  }\n",
              "\n",
              "  @keyframes spin {\n",
              "    0% {\n",
              "      border-color: transparent;\n",
              "      border-bottom-color: var(--fill-color);\n",
              "      border-left-color: var(--fill-color);\n",
              "    }\n",
              "    20% {\n",
              "      border-color: transparent;\n",
              "      border-left-color: var(--fill-color);\n",
              "      border-top-color: var(--fill-color);\n",
              "    }\n",
              "    30% {\n",
              "      border-color: transparent;\n",
              "      border-left-color: var(--fill-color);\n",
              "      border-top-color: var(--fill-color);\n",
              "      border-right-color: var(--fill-color);\n",
              "    }\n",
              "    40% {\n",
              "      border-color: transparent;\n",
              "      border-right-color: var(--fill-color);\n",
              "      border-top-color: var(--fill-color);\n",
              "    }\n",
              "    60% {\n",
              "      border-color: transparent;\n",
              "      border-right-color: var(--fill-color);\n",
              "    }\n",
              "    80% {\n",
              "      border-color: transparent;\n",
              "      border-right-color: var(--fill-color);\n",
              "      border-bottom-color: var(--fill-color);\n",
              "    }\n",
              "    90% {\n",
              "      border-color: transparent;\n",
              "      border-bottom-color: var(--fill-color);\n",
              "    }\n",
              "  }\n",
              "</style>\n",
              "\n",
              "  <script>\n",
              "    async function quickchart(key) {\n",
              "      const quickchartButtonEl =\n",
              "        document.querySelector('#' + key + ' button');\n",
              "      quickchartButtonEl.disabled = true;  // To prevent multiple clicks.\n",
              "      quickchartButtonEl.classList.add('colab-df-spinner');\n",
              "      try {\n",
              "        const charts = await google.colab.kernel.invokeFunction(\n",
              "            'suggestCharts', [key], {});\n",
              "      } catch (error) {\n",
              "        console.error('Error during call to suggestCharts:', error);\n",
              "      }\n",
              "      quickchartButtonEl.classList.remove('colab-df-spinner');\n",
              "      quickchartButtonEl.classList.add('colab-df-quickchart-complete');\n",
              "    }\n",
              "    (() => {\n",
              "      let quickchartButtonEl =\n",
              "        document.querySelector('#df-f23bdb62-8587-465b-9e34-be8f2e851794 button');\n",
              "      quickchartButtonEl.style.display =\n",
              "        google.colab.kernel.accessAllowed ? 'block' : 'none';\n",
              "    })();\n",
              "  </script>\n",
              "</div>\n",
              "    </div>\n",
              "  </div>\n"
            ]
          },
          "metadata": {},
          "execution_count": 21
        }
      ]
    },
    {
      "cell_type": "markdown",
      "source": [
        "<div style=\"background-color: #171821; color: white; padding: 10px; text-align: center; font-size: 20px;\">\n",
        "    <h1>Lidando com o desbalanceamento de dados da target</h1>\n",
        "</div>\n",
        "\n",
        "Durante a primeira semana do nosso projeto, uma observação veio à tona: nossos dados da target 'Churn' apresentam um desbalanceamento, conforme evidenciado abaixo:"
      ],
      "metadata": {
        "id": "q2az39csY8W_"
      }
    },
    {
      "cell_type": "code",
      "source": [
        "round(dados_extras['Churn'].value_counts(normalize = True) * 100, 2)"
      ],
      "metadata": {
        "colab": {
          "base_uri": "https://localhost:8080/"
        },
        "id": "WgdH5R8hZkyA",
        "outputId": "46e48b35-f31c-49d8-b614-6ea70a8fb3d8"
      },
      "execution_count": 22,
      "outputs": [
        {
          "output_type": "execute_result",
          "data": {
            "text/plain": [
              "0    73.46\n",
              "1    26.54\n",
              "Name: Churn, dtype: float64"
            ]
          },
          "metadata": {},
          "execution_count": 22
        }
      ]
    },
    {
      "cell_type": "markdown",
      "source": [
        "Este desbalanceamento pode trazer desafios na construção de modelos ML. Na verdade, temos duas abordagens distintas a serem consideradas para lidar com essa situação:\n",
        "\n",
        "## Abordagem 1: Ignorar o desbalanceamento\n",
        "\n",
        "> A primeira abordagem consiste em ignorar completamente o desbalanceamento e construir nosso modelo sem fazer ajustes específicos para corrigir. Se desenvolvermos um modelo sem considerar essa desproporcionalidade nos dados, o modelo será vítima do Paradoxo da Acurácia, em que os parâmetros do algoritmo não diferenciarão a classe minoritária das demais categorias, acreditando que estão agregando resultado devido à aparente alta acurácia. No entanto, existem diversos algoritmos de classificação, como Gradient Boosting, por exemplo, que demonstram um desempenho melhor lidando com dados desbalanceados do que modelos como o KNN e SVM.\n"
      ],
      "metadata": {
        "id": "tkiR_GkXac0B"
      }
    },
    {
      "cell_type": "code",
      "source": [
        "X_ignore = dados_extras.drop('Churn', axis = 1)   # Conjunto de features\n",
        "y_ignore = dados_extras['Churn']                  # Conjunto da target Churn"
      ],
      "metadata": {
        "id": "HwPlIowSchAN"
      },
      "execution_count": 23,
      "outputs": []
    },
    {
      "cell_type": "markdown",
      "source": [
        "## Abordagem 2: Oversamplig\n",
        "\n",
        "> A segunda abordagem é utilizar a técnica [SMOTE](https://arxiv.org/pdf/1106.1813.pdf) (Synthetic Minority Over-sampling Technique). Essa técnica envolve a criação de informações sintéticas com base nas observações já existentes na classe minoritária. Esses dados \"sintéticos\" são gerados de forma a serem semelhantes aos dados reais, embora não sejam idênticos. Essa abordagem visa equilibrar a representação das classes, tornando o modelo mais capaz de identificar corretamente os casos da classe minoritária."
      ],
      "metadata": {
        "id": "XLS4gdJScf4G"
      }
    },
    {
      "cell_type": "code",
      "source": [
        "from imblearn.over_sampling import SMOTE\n",
        "\n",
        "X_oversample, y_oversample = SMOTE(random_state= 42).fit_resample(X_ignore, y_ignore)"
      ],
      "metadata": {
        "id": "Y4qFRA7DZw_b"
      },
      "execution_count": 24,
      "outputs": []
    },
    {
      "cell_type": "code",
      "source": [
        "round(y_oversample.value_counts(normalize = True) * 100, 2)"
      ],
      "metadata": {
        "colab": {
          "base_uri": "https://localhost:8080/"
        },
        "id": "mWsilKPfbiLq",
        "outputId": "9903177d-ff2c-42d7-c9e6-cb8371e2176d"
      },
      "execution_count": 26,
      "outputs": [
        {
          "output_type": "execute_result",
          "data": {
            "text/plain": [
              "0    50.0\n",
              "1    50.0\n",
              "Name: Churn, dtype: float64"
            ]
          },
          "metadata": {},
          "execution_count": 26
        }
      ]
    },
    {
      "cell_type": "markdown",
      "source": [
        "A partir deste ponto, nosso trabalho se ramificará nessas duas abordagens distintas. Ao final, identificaremos qual delas é a mais eficaz, juntamente com a escolha do modelo de classificação adequado. Também discutiremos as medidas que a empresa Novexus pode adotar para reduzir a taxa de Churn."
      ],
      "metadata": {
        "id": "79ILYcGS9PZk"
      }
    }
  ]
}